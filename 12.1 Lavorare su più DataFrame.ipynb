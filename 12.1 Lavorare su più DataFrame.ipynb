{
 "cells": [
  {
   "cell_type": "markdown",
   "metadata": {},
   "source": [
    "# Fondere DataFrame\n",
    "\n",
    "## Fondere DataFrame\n",
    "\n",
    "Una caratteristica fondamentale dei DataFrame ben formati è che corrispondono a *tabelle normalizzate*.\n",
    "In particolare ogni cella di un DataFrame corrisponde a ad un singolo valore, non a liste, dizionari o DataFrame.\n",
    "\n",
    "Di conseguenza i nostri dati potrebbero essere suddivisi in più tabelle (o DataFrame) che sono collegabili sfruttando campi comuni.\n",
    "\n",
    "I questa lezione utilizzeremo alcuni dati provenienti dal [Prezzario dei Lavori Pubblici della Toscana](http://dati.toscana.it/dataset/prezzario-lavori-pubblici). Iniziamo a leggere la tabella delle gare non terminate."
   ]
  },
  {
   "cell_type": "code",
   "execution_count": 1,
   "metadata": {},
   "outputs": [
    {
     "data": {
      "text/html": [
       "<div>\n",
       "<style scoped>\n",
       "    .dataframe tbody tr th:only-of-type {\n",
       "        vertical-align: middle;\n",
       "    }\n",
       "\n",
       "    .dataframe tbody tr th {\n",
       "        vertical-align: top;\n",
       "    }\n",
       "\n",
       "    .dataframe thead th {\n",
       "        text-align: right;\n",
       "    }\n",
       "</style>\n",
       "<table border=\"1\" class=\"dataframe\">\n",
       "  <thead>\n",
       "    <tr style=\"text-align: right;\">\n",
       "      <th></th>\n",
       "      <th>oggetto_della_gara</th>\n",
       "      <th>numero_gara_anac</th>\n",
       "      <th>settore</th>\n",
       "      <th>modalita_realizzazione</th>\n",
       "      <th>importo_gara</th>\n",
       "      <th>num_tot_lotti</th>\n",
       "      <th>rup</th>\n",
       "      <th>cf_rup</th>\n",
       "      <th>codice_fiscale_stazione_appaltante</th>\n",
       "      <th>codice_istat_stazione_appaltante</th>\n",
       "      <th>...</th>\n",
       "      <th>classifica</th>\n",
       "      <th>luogo_esecuzione_istat</th>\n",
       "      <th>luogo_esecuzione_nuts</th>\n",
       "      <th>num_ordine</th>\n",
       "      <th>tipo_atto_o_documento</th>\n",
       "      <th>data_pubblicazione</th>\n",
       "      <th>data_provvedimento</th>\n",
       "      <th>num_provvedimento</th>\n",
       "      <th>data_pubblicazione_scp</th>\n",
       "      <th>url_esito</th>\n",
       "    </tr>\n",
       "    <tr>\n",
       "      <th>id_gara</th>\n",
       "      <th></th>\n",
       "      <th></th>\n",
       "      <th></th>\n",
       "      <th></th>\n",
       "      <th></th>\n",
       "      <th></th>\n",
       "      <th></th>\n",
       "      <th></th>\n",
       "      <th></th>\n",
       "      <th></th>\n",
       "      <th></th>\n",
       "      <th></th>\n",
       "      <th></th>\n",
       "      <th></th>\n",
       "      <th></th>\n",
       "      <th></th>\n",
       "      <th></th>\n",
       "      <th></th>\n",
       "      <th></th>\n",
       "      <th></th>\n",
       "      <th></th>\n",
       "    </tr>\n",
       "  </thead>\n",
       "  <tbody>\n",
       "    <tr>\n",
       "      <th>41762</th>\n",
       "      <td>ID13FAR001/3 procedura negoziata ai sensi art....</td>\n",
       "      <td>\"0\"</td>\n",
       "      <td>Ordinario</td>\n",
       "      <td>Contratto di concessione di servizi e/o forniture</td>\n",
       "      <td>23345484.14</td>\n",
       "      <td>1</td>\n",
       "      <td>MANIAGO ANNA MARIA</td>\n",
       "      <td>MNGNMR54L43A456Z</td>\n",
       "      <td>\"02801630308\"</td>\n",
       "      <td>\"006030129\"</td>\n",
       "      <td>...</td>\n",
       "      <td>NaN</td>\n",
       "      <td>6000000.0</td>\n",
       "      <td>NaN</td>\n",
       "      <td>1</td>\n",
       "      <td>Provvedimento di gara non aggiudicata o deserta</td>\n",
       "      <td>\"2015-08-05T22:00:00.000Z\"</td>\n",
       "      <td>NaN</td>\n",
       "      <td>NaN</td>\n",
       "      <td>\"2015-08-05T22:00:00.000Z\"</td>\n",
       "      <td>https://www.serviziocontrattipubblici.it/SPInA...</td>\n",
       "    </tr>\n",
       "  </tbody>\n",
       "</table>\n",
       "<p>1 rows × 39 columns</p>\n",
       "</div>"
      ],
      "text/plain": [
       "                                        oggetto_della_gara numero_gara_anac  \\\n",
       "id_gara                                                                       \n",
       "41762    ID13FAR001/3 procedura negoziata ai sensi art....              \"0\"   \n",
       "\n",
       "           settore                             modalita_realizzazione  \\\n",
       "id_gara                                                                 \n",
       "41762    Ordinario  Contratto di concessione di servizi e/o forniture   \n",
       "\n",
       "         importo_gara  num_tot_lotti                 rup            cf_rup  \\\n",
       "id_gara                                                                      \n",
       "41762     23345484.14              1  MANIAGO ANNA MARIA  MNGNMR54L43A456Z   \n",
       "\n",
       "        codice_fiscale_stazione_appaltante codice_istat_stazione_appaltante  \\\n",
       "id_gara                                                                       \n",
       "41762                        \"02801630308\"                      \"006030129\"   \n",
       "\n",
       "                               ...                         classifica  \\\n",
       "id_gara                        ...                                      \n",
       "41762                          ...                                NaN   \n",
       "\n",
       "        luogo_esecuzione_istat luogo_esecuzione_nuts num_ordine  \\\n",
       "id_gara                                                           \n",
       "41762                6000000.0                   NaN          1   \n",
       "\n",
       "                                   tipo_atto_o_documento  \\\n",
       "id_gara                                                    \n",
       "41762    Provvedimento di gara non aggiudicata o deserta   \n",
       "\n",
       "                 data_pubblicazione data_provvedimento num_provvedimento  \\\n",
       "id_gara                                                                    \n",
       "41762    \"2015-08-05T22:00:00.000Z\"                NaN               NaN   \n",
       "\n",
       "             data_pubblicazione_scp  \\\n",
       "id_gara                               \n",
       "41762    \"2015-08-05T22:00:00.000Z\"   \n",
       "\n",
       "                                                 url_esito  \n",
       "id_gara                                                     \n",
       "41762    https://www.serviziocontrattipubblici.it/SPInA...  \n",
       "\n",
       "[1 rows x 39 columns]"
      ]
     },
     "execution_count": 1,
     "metadata": {},
     "output_type": "execute_result"
    }
   ],
   "source": [
    "import pandas as pd\n",
    "\n",
    "gare_no = pd.read_csv(\"data/scpgarenonaggnew.csv.bz2\", index_col = 'id_gara')\n",
    "gare_no.head(1)"
   ]
  },
  {
   "cell_type": "code",
   "execution_count": 2,
   "metadata": {},
   "outputs": [
    {
     "data": {
      "text/plain": [
       "Index(['oggetto_della_gara', 'numero_gara_anac', 'settore',\n",
       "       'modalita_realizzazione', 'importo_gara', 'num_tot_lotti', 'rup',\n",
       "       'cf_rup', 'codice_fiscale_stazione_appaltante',\n",
       "       'codice_istat_stazione_appaltante', 'denominazione_stazione_appaltante',\n",
       "       'provincia_stazione_appaltante', 'ufficio',\n",
       "       'la_sa_agisce_per_conto_di_altro_soggetto',\n",
       "       'soggetto_per_cui_agisce_la_sa', 'id_lotto', 'cig', 'oggetto_lotto',\n",
       "       'nr_lotto', 'somma_urgenza', 'tipo_appalto', 'tipo_procedura',\n",
       "       'criterio_aggiudicazione', 'imp_lotto_netto_sicurezza', 'imp_sicurezza',\n",
       "       'imp_lotto', 'cup', 'cpv', 'categoria_prevalente', 'classifica',\n",
       "       'luogo_esecuzione_istat', 'luogo_esecuzione_nuts', 'num_ordine',\n",
       "       'tipo_atto_o_documento', 'data_pubblicazione', 'data_provvedimento',\n",
       "       'num_provvedimento', 'data_pubblicazione_scp', 'url_esito'],\n",
       "      dtype='object')"
      ]
     },
     "execution_count": 2,
     "metadata": {},
     "output_type": "execute_result"
    }
   ],
   "source": [
    "gare_no.columns"
   ]
  },
  {
   "cell_type": "markdown",
   "metadata": {},
   "source": [
    "## Tabelle Prezzario\n",
    "\n",
    "I dati da leggere per la tabella dei bandi sono particolarmente grandi. Per questo motivo dobbiamo utilizzare l'opzione `low_memory=False`, altrimenti pandas non riuscirà a calcolare correttamente il tipo di dati contenuto in alcune colonne."
   ]
  },
  {
   "cell_type": "code",
   "execution_count": 3,
   "metadata": {},
   "outputs": [
    {
     "data": {
      "text/html": [
       "<div>\n",
       "<style scoped>\n",
       "    .dataframe tbody tr th:only-of-type {\n",
       "        vertical-align: middle;\n",
       "    }\n",
       "\n",
       "    .dataframe tbody tr th {\n",
       "        vertical-align: top;\n",
       "    }\n",
       "\n",
       "    .dataframe thead th {\n",
       "        text-align: right;\n",
       "    }\n",
       "</style>\n",
       "<table border=\"1\" class=\"dataframe\">\n",
       "  <thead>\n",
       "    <tr style=\"text-align: right;\">\n",
       "      <th></th>\n",
       "      <th>id_gara</th>\n",
       "      <th>oggetto_della_gara</th>\n",
       "      <th>numero_gara_anac</th>\n",
       "      <th>settore</th>\n",
       "      <th>modalita_realizzazione</th>\n",
       "      <th>importo_gara</th>\n",
       "      <th>num_tot_lotti</th>\n",
       "      <th>rup</th>\n",
       "      <th>cf_rup</th>\n",
       "      <th>codice_fiscale_stazione_appaltante</th>\n",
       "      <th>...</th>\n",
       "      <th>imp_sicurezza</th>\n",
       "      <th>imp_lotto</th>\n",
       "      <th>cup</th>\n",
       "      <th>cpv</th>\n",
       "      <th>categoria_prevalente</th>\n",
       "      <th>classifica</th>\n",
       "      <th>luogo_esecuzione_istat</th>\n",
       "      <th>luogo_esecuzione_nuts</th>\n",
       "      <th>url_bando</th>\n",
       "      <th>data_pubblicazione_scp</th>\n",
       "    </tr>\n",
       "  </thead>\n",
       "  <tbody>\n",
       "    <tr>\n",
       "      <th>0</th>\n",
       "      <td>59433</td>\n",
       "      <td>Recupero dell'immobile di proprietà comunale d...</td>\n",
       "      <td>\"0\"</td>\n",
       "      <td>NaN</td>\n",
       "      <td>NaN</td>\n",
       "      <td>381544.90</td>\n",
       "      <td>1</td>\n",
       "      <td>NaN</td>\n",
       "      <td>NaN</td>\n",
       "      <td>\"83503450153\"</td>\n",
       "      <td>...</td>\n",
       "      <td>22080.66</td>\n",
       "      <td>381544.90</td>\n",
       "      <td>NaN</td>\n",
       "      <td>\"45233100\"</td>\n",
       "      <td>OG3</td>\n",
       "      <td>I</td>\n",
       "      <td>NaN</td>\n",
       "      <td>NaN</td>\n",
       "      <td>https://www.serviziocontrattipubblici.it/SPInA...</td>\n",
       "      <td>\"2001-06-19T22:00:00.000Z\"</td>\n",
       "    </tr>\n",
       "    <tr>\n",
       "      <th>1</th>\n",
       "      <td>59434</td>\n",
       "      <td>Realizzazione del collettore fognario e impian...</td>\n",
       "      <td>\"0\"</td>\n",
       "      <td>NaN</td>\n",
       "      <td>NaN</td>\n",
       "      <td>748862.50</td>\n",
       "      <td>1</td>\n",
       "      <td>NaN</td>\n",
       "      <td>NaN</td>\n",
       "      <td>\"81003550522\"</td>\n",
       "      <td>...</td>\n",
       "      <td>6197.48</td>\n",
       "      <td>748862.50</td>\n",
       "      <td>NaN</td>\n",
       "      <td>\"45232400\"</td>\n",
       "      <td>OG6</td>\n",
       "      <td>I</td>\n",
       "      <td>NaN</td>\n",
       "      <td>NaN</td>\n",
       "      <td>https://www.serviziocontrattipubblici.it/SPInA...</td>\n",
       "      <td>\"2001-06-19T22:00:00.000Z\"</td>\n",
       "    </tr>\n",
       "    <tr>\n",
       "      <th>2</th>\n",
       "      <td>59435</td>\n",
       "      <td>Ristrutturazione Cimitero nella frazione di Cà...</td>\n",
       "      <td>\"0\"</td>\n",
       "      <td>NaN</td>\n",
       "      <td>NaN</td>\n",
       "      <td>275241.04</td>\n",
       "      <td>1</td>\n",
       "      <td>NaN</td>\n",
       "      <td>NaN</td>\n",
       "      <td>NaN</td>\n",
       "      <td>...</td>\n",
       "      <td>13763.58</td>\n",
       "      <td>275241.04</td>\n",
       "      <td>NaN</td>\n",
       "      <td>\"45215400\"</td>\n",
       "      <td>OG1</td>\n",
       "      <td>I</td>\n",
       "      <td>NaN</td>\n",
       "      <td>NaN</td>\n",
       "      <td>https://www.serviziocontrattipubblici.it/SPInA...</td>\n",
       "      <td>\"2001-06-27T22:00:00.000Z\"</td>\n",
       "    </tr>\n",
       "  </tbody>\n",
       "</table>\n",
       "<p>3 rows × 37 columns</p>\n",
       "</div>"
      ],
      "text/plain": [
       "   id_gara                                 oggetto_della_gara  \\\n",
       "0    59433  Recupero dell'immobile di proprietà comunale d...   \n",
       "1    59434  Realizzazione del collettore fognario e impian...   \n",
       "2    59435  Ristrutturazione Cimitero nella frazione di Cà...   \n",
       "\n",
       "  numero_gara_anac settore modalita_realizzazione  importo_gara  \\\n",
       "0              \"0\"     NaN                    NaN     381544.90   \n",
       "1              \"0\"     NaN                    NaN     748862.50   \n",
       "2              \"0\"     NaN                    NaN     275241.04   \n",
       "\n",
       "   num_tot_lotti  rup cf_rup codice_fiscale_stazione_appaltante  \\\n",
       "0              1  NaN    NaN                      \"83503450153\"   \n",
       "1              1  NaN    NaN                      \"81003550522\"   \n",
       "2              1  NaN    NaN                                NaN   \n",
       "\n",
       "              ...             imp_sicurezza  imp_lotto  cup         cpv  \\\n",
       "0             ...                  22080.66  381544.90  NaN  \"45233100\"   \n",
       "1             ...                   6197.48  748862.50  NaN  \"45232400\"   \n",
       "2             ...                  13763.58  275241.04  NaN  \"45215400\"   \n",
       "\n",
       "  categoria_prevalente classifica luogo_esecuzione_istat  \\\n",
       "0                  OG3          I                    NaN   \n",
       "1                  OG6          I                    NaN   \n",
       "2                  OG1          I                    NaN   \n",
       "\n",
       "  luogo_esecuzione_nuts                                          url_bando  \\\n",
       "0                   NaN  https://www.serviziocontrattipubblici.it/SPInA...   \n",
       "1                   NaN  https://www.serviziocontrattipubblici.it/SPInA...   \n",
       "2                   NaN  https://www.serviziocontrattipubblici.it/SPInA...   \n",
       "\n",
       "       data_pubblicazione_scp  \n",
       "0  \"2001-06-19T22:00:00.000Z\"  \n",
       "1  \"2001-06-19T22:00:00.000Z\"  \n",
       "2  \"2001-06-27T22:00:00.000Z\"  \n",
       "\n",
       "[3 rows x 37 columns]"
      ]
     },
     "execution_count": 3,
     "metadata": {},
     "output_type": "execute_result"
    }
   ],
   "source": [
    "bandi = pd.read_csv(\"data/scpbandinew.csv.bz2\", low_memory = False)\n",
    "bandi.head(3)"
   ]
  },
  {
   "cell_type": "code",
   "execution_count": 4,
   "metadata": {},
   "outputs": [
    {
     "data": {
      "text/plain": [
       "Index(['id_gara', 'oggetto_della_gara', 'numero_gara_anac', 'settore',\n",
       "       'modalita_realizzazione', 'importo_gara', 'num_tot_lotti', 'rup',\n",
       "       'cf_rup', 'codice_fiscale_stazione_appaltante',\n",
       "       'codice_istat_stazione_appaltante', 'denominazione_stazione_appaltante',\n",
       "       'provincia_stazione_appaltante', 'ufficio',\n",
       "       'la_sa_agisce_per_conto_di_altro_soggetto',\n",
       "       'soggetto_per_cui_agisce_la_sa', 'data_pubblicazione_bando',\n",
       "       'data_scadenza_bando', 'id_lotto', 'cig', 'oggetto_lotto', 'nr_lotto',\n",
       "       'somma_urgenza', 'tipo_appalto', 'tipo_procedura',\n",
       "       'criterio_aggiudicazione', 'imp_lotto_netto_sicurezza', 'imp_sicurezza',\n",
       "       'imp_lotto', 'cup', 'cpv', 'categoria_prevalente', 'classifica',\n",
       "       'luogo_esecuzione_istat', 'luogo_esecuzione_nuts', 'url_bando',\n",
       "       'data_pubblicazione_scp'],\n",
       "      dtype='object')"
      ]
     },
     "execution_count": 4,
     "metadata": {},
     "output_type": "execute_result"
    }
   ],
   "source": [
    "bandi.columns"
   ]
  },
  {
   "cell_type": "markdown",
   "metadata": {},
   "source": [
    "## Tabella Esiti\n",
    "\n",
    "Leggiamo adesso la tabelle degli esiti delle gare."
   ]
  },
  {
   "cell_type": "code",
   "execution_count": 5,
   "metadata": {},
   "outputs": [
    {
     "data": {
      "text/html": [
       "<div>\n",
       "<style scoped>\n",
       "    .dataframe tbody tr th:only-of-type {\n",
       "        vertical-align: middle;\n",
       "    }\n",
       "\n",
       "    .dataframe tbody tr th {\n",
       "        vertical-align: top;\n",
       "    }\n",
       "\n",
       "    .dataframe thead th {\n",
       "        text-align: right;\n",
       "    }\n",
       "</style>\n",
       "<table border=\"1\" class=\"dataframe\">\n",
       "  <thead>\n",
       "    <tr style=\"text-align: right;\">\n",
       "      <th></th>\n",
       "      <th>id_gara</th>\n",
       "      <th>oggetto_della_gara</th>\n",
       "      <th>numero_gara_anac</th>\n",
       "      <th>settore</th>\n",
       "      <th>modalita_realizzazione</th>\n",
       "      <th>importo_gara</th>\n",
       "      <th>num_tot_lotti</th>\n",
       "      <th>rup</th>\n",
       "      <th>cf_rup</th>\n",
       "      <th>codice_fiscale_stazione_appaltante</th>\n",
       "      <th>...</th>\n",
       "      <th>ribasso_di_aggiudicazione</th>\n",
       "      <th>offerta_in_aumento</th>\n",
       "      <th>imp_di_aggiudicazione</th>\n",
       "      <th>data_aggiudicazione_definitiva</th>\n",
       "      <th>data_pubblicazione_scp</th>\n",
       "      <th>id_gruppo</th>\n",
       "      <th>ruolo</th>\n",
       "      <th>aggiudicatario</th>\n",
       "      <th>cf_aggiudicatario</th>\n",
       "      <th>url_esito</th>\n",
       "    </tr>\n",
       "  </thead>\n",
       "  <tbody>\n",
       "    <tr>\n",
       "      <th>0</th>\n",
       "      <td>40607</td>\n",
       "      <td>Affidamento dei servizi di manutenzione evolut...</td>\n",
       "      <td>\"0\"</td>\n",
       "      <td>Ordinario</td>\n",
       "      <td>Contratto di concessione di servizi e/o forniture</td>\n",
       "      <td>92739.00</td>\n",
       "      <td>1</td>\n",
       "      <td>Troccoli Emilia</td>\n",
       "      <td>TRCMLE65S58H703N</td>\n",
       "      <td>\"97231970589\"</td>\n",
       "      <td>...</td>\n",
       "      <td>0.0</td>\n",
       "      <td>NaN</td>\n",
       "      <td>92739.00000</td>\n",
       "      <td>\"2016-03-21T23:00:00.000Z\"</td>\n",
       "      <td>\"2016-05-22T22:00:00.000Z\"</td>\n",
       "      <td>NaN</td>\n",
       "      <td>NaN</td>\n",
       "      <td>Gesinf srl</td>\n",
       "      <td>01633591001</td>\n",
       "      <td>https://www.serviziocontrattipubblici.it/SPInA...</td>\n",
       "    </tr>\n",
       "    <tr>\n",
       "      <th>1</th>\n",
       "      <td>40608</td>\n",
       "      <td>lavori di Ristrutturazione Edilizia Edificio S...</td>\n",
       "      <td>\"0\"</td>\n",
       "      <td>Ordinario</td>\n",
       "      <td>Contratto d'appalto</td>\n",
       "      <td>626991.12</td>\n",
       "      <td>1</td>\n",
       "      <td>Marenco  Elvio</td>\n",
       "      <td>MRNLVE76R13A145G</td>\n",
       "      <td>\"00335810040\"</td>\n",
       "      <td>...</td>\n",
       "      <td>0.0</td>\n",
       "      <td>NaN</td>\n",
       "      <td>568337.26000</td>\n",
       "      <td>\"2016-02-16T23:00:00.000Z\"</td>\n",
       "      <td>\"2016-05-04T22:00:00.000Z\"</td>\n",
       "      <td>NaN</td>\n",
       "      <td>NaN</td>\n",
       "      <td>Impresa Soda Costruzioni S.r.l.</td>\n",
       "      <td>***********</td>\n",
       "      <td>https://www.serviziocontrattipubblici.it/SPInA...</td>\n",
       "    </tr>\n",
       "    <tr>\n",
       "      <th>2</th>\n",
       "      <td>40609</td>\n",
       "      <td>Servizio di repertimento e collocamento di per...</td>\n",
       "      <td>\"0\"</td>\n",
       "      <td>Ordinario</td>\n",
       "      <td>Contratto di concessione di servizi e/o forniture</td>\n",
       "      <td>250000.00</td>\n",
       "      <td>1</td>\n",
       "      <td>Mannari Leonardo</td>\n",
       "      <td>MNNLRD73D04E625N</td>\n",
       "      <td>\"01098200494\"</td>\n",
       "      <td>...</td>\n",
       "      <td>0.0</td>\n",
       "      <td>NaN</td>\n",
       "      <td>250000.00000</td>\n",
       "      <td>\"2016-05-01T22:00:00.000Z\"</td>\n",
       "      <td>\"2016-05-05T22:00:00.000Z\"</td>\n",
       "      <td>NaN</td>\n",
       "      <td>NaN</td>\n",
       "      <td>GI Group Spa</td>\n",
       "      <td>11629770154</td>\n",
       "      <td>https://www.serviziocontrattipubblici.it/SPInA...</td>\n",
       "    </tr>\n",
       "  </tbody>\n",
       "</table>\n",
       "<p>3 rows × 46 columns</p>\n",
       "</div>"
      ],
      "text/plain": [
       "   id_gara                                 oggetto_della_gara  \\\n",
       "0    40607  Affidamento dei servizi di manutenzione evolut...   \n",
       "1    40608  lavori di Ristrutturazione Edilizia Edificio S...   \n",
       "2    40609  Servizio di repertimento e collocamento di per...   \n",
       "\n",
       "  numero_gara_anac    settore  \\\n",
       "0              \"0\"  Ordinario   \n",
       "1              \"0\"  Ordinario   \n",
       "2              \"0\"  Ordinario   \n",
       "\n",
       "                              modalita_realizzazione  importo_gara  \\\n",
       "0  Contratto di concessione di servizi e/o forniture      92739.00   \n",
       "1                                Contratto d'appalto     626991.12   \n",
       "2  Contratto di concessione di servizi e/o forniture     250000.00   \n",
       "\n",
       "   num_tot_lotti               rup            cf_rup  \\\n",
       "0              1   Troccoli Emilia  TRCMLE65S58H703N   \n",
       "1              1    Marenco  Elvio  MRNLVE76R13A145G   \n",
       "2              1  Mannari Leonardo  MNNLRD73D04E625N   \n",
       "\n",
       "  codice_fiscale_stazione_appaltante  \\\n",
       "0                      \"97231970589\"   \n",
       "1                      \"00335810040\"   \n",
       "2                      \"01098200494\"   \n",
       "\n",
       "                         ...                          \\\n",
       "0                        ...                           \n",
       "1                        ...                           \n",
       "2                        ...                           \n",
       "\n",
       "  ribasso_di_aggiudicazione offerta_in_aumento imp_di_aggiudicazione  \\\n",
       "0                       0.0                NaN           92739.00000   \n",
       "1                       0.0                NaN          568337.26000   \n",
       "2                       0.0                NaN          250000.00000   \n",
       "\n",
       "  data_aggiudicazione_definitiva      data_pubblicazione_scp id_gruppo  ruolo  \\\n",
       "0     \"2016-03-21T23:00:00.000Z\"  \"2016-05-22T22:00:00.000Z\"       NaN    NaN   \n",
       "1     \"2016-02-16T23:00:00.000Z\"  \"2016-05-04T22:00:00.000Z\"       NaN    NaN   \n",
       "2     \"2016-05-01T22:00:00.000Z\"  \"2016-05-05T22:00:00.000Z\"       NaN    NaN   \n",
       "\n",
       "                    aggiudicatario cf_aggiudicatario  \\\n",
       "0                       Gesinf srl       01633591001   \n",
       "1  Impresa Soda Costruzioni S.r.l.       ***********   \n",
       "2                     GI Group Spa       11629770154   \n",
       "\n",
       "                                           url_esito  \n",
       "0  https://www.serviziocontrattipubblici.it/SPInA...  \n",
       "1  https://www.serviziocontrattipubblici.it/SPInA...  \n",
       "2  https://www.serviziocontrattipubblici.it/SPInA...  \n",
       "\n",
       "[3 rows x 46 columns]"
      ]
     },
     "execution_count": 5,
     "metadata": {},
     "output_type": "execute_result"
    }
   ],
   "source": [
    "esiti = pd.read_csv(\"data/scpesitinew.csv.bz2\", low_memory = False)\n",
    "esiti.head(3)"
   ]
  },
  {
   "cell_type": "code",
   "execution_count": 6,
   "metadata": {},
   "outputs": [
    {
     "data": {
      "text/plain": [
       "Index(['id_gara', 'oggetto_della_gara', 'numero_gara_anac', 'settore',\n",
       "       'modalita_realizzazione', 'importo_gara', 'num_tot_lotti', 'rup',\n",
       "       'cf_rup', 'codice_fiscale_stazione_appaltante',\n",
       "       'codice_istat_stazione_appaltante', 'denominazione_stazione_appaltante',\n",
       "       'provincia_stazione_appaltante', 'ufficio',\n",
       "       'la_sa_agisce_per_conto_di_altro_soggetto',\n",
       "       'soggetto_per_cui_agisce_la_sa', 'id_lotto', 'cig', 'oggetto_lotto',\n",
       "       'nr_lotto', 'somma_urgenza', 'tipo_appalto', 'tipo_procedura',\n",
       "       'criterio_aggiudicazione', 'imp_lotto_netto_sicurezza', 'imp_sicurezza',\n",
       "       'imp_lotto', 'cup', 'cpv', 'categoria_prevalente', 'classifica',\n",
       "       'luogo_esecuzione_istat', 'luogo_esecuzione_nuts', 'num_ordine',\n",
       "       'tipo_atto_o_documento', 'data_pubblicazione_esito',\n",
       "       'ribasso_di_aggiudicazione', 'offerta_in_aumento',\n",
       "       'imp_di_aggiudicazione', 'data_aggiudicazione_definitiva',\n",
       "       'data_pubblicazione_scp', 'id_gruppo', 'ruolo', 'aggiudicatario',\n",
       "       'cf_aggiudicatario', 'url_esito'],\n",
       "      dtype='object')"
      ]
     },
     "execution_count": 6,
     "metadata": {},
     "output_type": "execute_result"
    }
   ],
   "source": [
    "esiti.columns"
   ]
  },
  {
   "cell_type": "markdown",
   "metadata": {},
   "source": [
    "## Fondere DataFrame\n",
    "\n",
    "Il campo `id_gara` permette di incrociare i dati presenti nei tre DataFrame: l'istruzione per questa operazione è la `merge`."
   ]
  },
  {
   "cell_type": "code",
   "execution_count": 7,
   "metadata": {},
   "outputs": [
    {
     "data": {
      "text/html": [
       "<div>\n",
       "<style scoped>\n",
       "    .dataframe tbody tr th:only-of-type {\n",
       "        vertical-align: middle;\n",
       "    }\n",
       "\n",
       "    .dataframe tbody tr th {\n",
       "        vertical-align: top;\n",
       "    }\n",
       "\n",
       "    .dataframe thead th {\n",
       "        text-align: right;\n",
       "    }\n",
       "</style>\n",
       "<table border=\"1\" class=\"dataframe\">\n",
       "  <thead>\n",
       "    <tr style=\"text-align: right;\">\n",
       "      <th></th>\n",
       "      <th>id_gara</th>\n",
       "      <th>oggetto_della_gara_x</th>\n",
       "      <th>numero_gara_anac_x</th>\n",
       "      <th>settore_x</th>\n",
       "      <th>modalita_realizzazione_x</th>\n",
       "      <th>importo_gara_x</th>\n",
       "      <th>num_tot_lotti_x</th>\n",
       "      <th>rup_x</th>\n",
       "      <th>cf_rup_x</th>\n",
       "      <th>codice_fiscale_stazione_appaltante_x</th>\n",
       "      <th>...</th>\n",
       "      <th>ribasso_di_aggiudicazione</th>\n",
       "      <th>offerta_in_aumento</th>\n",
       "      <th>imp_di_aggiudicazione</th>\n",
       "      <th>data_aggiudicazione_definitiva</th>\n",
       "      <th>data_pubblicazione_scp_y</th>\n",
       "      <th>id_gruppo</th>\n",
       "      <th>ruolo</th>\n",
       "      <th>aggiudicatario</th>\n",
       "      <th>cf_aggiudicatario</th>\n",
       "      <th>url_esito</th>\n",
       "    </tr>\n",
       "  </thead>\n",
       "  <tbody>\n",
       "    <tr>\n",
       "      <th>0</th>\n",
       "      <td>70411</td>\n",
       "      <td>LAVORI COSTRUZIONE DI N. 2 EDIFICI PER COMPLES...</td>\n",
       "      <td>\"0\"</td>\n",
       "      <td>Speciale</td>\n",
       "      <td>Contratto di concessione di lavori</td>\n",
       "      <td>2060000.00</td>\n",
       "      <td>1</td>\n",
       "      <td>Anaclerio Gustavo</td>\n",
       "      <td>NCLGTV63C07F839Z</td>\n",
       "      <td>\"02573290422\"</td>\n",
       "      <td>...</td>\n",
       "      <td>15.423</td>\n",
       "      <td>NaN</td>\n",
       "      <td>1768351.07000</td>\n",
       "      <td>\"2005-07-20T22:00:00.000Z\"</td>\n",
       "      <td>\"2012-01-08T23:00:00.000Z\"</td>\n",
       "      <td>NaN</td>\n",
       "      <td>NaN</td>\n",
       "      <td>COGEMA COSTRUZIONI</td>\n",
       "      <td>03444941219</td>\n",
       "      <td>https://www.serviziocontrattipubblici.it/SPInA...</td>\n",
       "    </tr>\n",
       "    <tr>\n",
       "      <th>1</th>\n",
       "      <td>70517</td>\n",
       "      <td>Appalto integrato, di realizzazione lavori, pr...</td>\n",
       "      <td>\"0\"</td>\n",
       "      <td>Speciale</td>\n",
       "      <td>Contratto di concessione di lavori</td>\n",
       "      <td>13457469.56</td>\n",
       "      <td>1</td>\n",
       "      <td>AVAGLIANO CARMINE</td>\n",
       "      <td>VGLCMN56D14C361A</td>\n",
       "      <td>\"03070190651\"</td>\n",
       "      <td>...</td>\n",
       "      <td>20.498</td>\n",
       "      <td>NaN</td>\n",
       "      <td>10806489.05000</td>\n",
       "      <td>\"2006-06-29T22:00:00.000Z\"</td>\n",
       "      <td>\"2010-01-11T23:00:00.000Z\"</td>\n",
       "      <td>1.0</td>\n",
       "      <td>Mandante</td>\n",
       "      <td>ARMAFER DEL DOTT. MICHELE MORELLI SRL</td>\n",
       "      <td>00433180759</td>\n",
       "      <td>https://www.serviziocontrattipubblici.it/SPInA...</td>\n",
       "    </tr>\n",
       "    <tr>\n",
       "      <th>2</th>\n",
       "      <td>70517</td>\n",
       "      <td>Appalto integrato, di realizzazione lavori, pr...</td>\n",
       "      <td>\"0\"</td>\n",
       "      <td>Speciale</td>\n",
       "      <td>Contratto di concessione di lavori</td>\n",
       "      <td>13457469.56</td>\n",
       "      <td>1</td>\n",
       "      <td>AVAGLIANO CARMINE</td>\n",
       "      <td>VGLCMN56D14C361A</td>\n",
       "      <td>\"03070190651\"</td>\n",
       "      <td>...</td>\n",
       "      <td>20.498</td>\n",
       "      <td>NaN</td>\n",
       "      <td>10806489.05000</td>\n",
       "      <td>\"2006-06-29T22:00:00.000Z\"</td>\n",
       "      <td>\"2010-01-11T23:00:00.000Z\"</td>\n",
       "      <td>1.0</td>\n",
       "      <td>Mandante</td>\n",
       "      <td>GECOPRA SRL</td>\n",
       "      <td>05614550639</td>\n",
       "      <td>https://www.serviziocontrattipubblici.it/SPInA...</td>\n",
       "    </tr>\n",
       "  </tbody>\n",
       "</table>\n",
       "<p>3 rows × 82 columns</p>\n",
       "</div>"
      ],
      "text/plain": [
       "   id_gara                               oggetto_della_gara_x  \\\n",
       "0    70411  LAVORI COSTRUZIONE DI N. 2 EDIFICI PER COMPLES...   \n",
       "1    70517  Appalto integrato, di realizzazione lavori, pr...   \n",
       "2    70517  Appalto integrato, di realizzazione lavori, pr...   \n",
       "\n",
       "  numero_gara_anac_x settore_x            modalita_realizzazione_x  \\\n",
       "0                \"0\"  Speciale  Contratto di concessione di lavori   \n",
       "1                \"0\"  Speciale  Contratto di concessione di lavori   \n",
       "2                \"0\"  Speciale  Contratto di concessione di lavori   \n",
       "\n",
       "   importo_gara_x  num_tot_lotti_x              rup_x          cf_rup_x  \\\n",
       "0      2060000.00                1  Anaclerio Gustavo  NCLGTV63C07F839Z   \n",
       "1     13457469.56                1  AVAGLIANO CARMINE  VGLCMN56D14C361A   \n",
       "2     13457469.56                1  AVAGLIANO CARMINE  VGLCMN56D14C361A   \n",
       "\n",
       "  codice_fiscale_stazione_appaltante_x  \\\n",
       "0                        \"02573290422\"   \n",
       "1                        \"03070190651\"   \n",
       "2                        \"03070190651\"   \n",
       "\n",
       "                         ...                          \\\n",
       "0                        ...                           \n",
       "1                        ...                           \n",
       "2                        ...                           \n",
       "\n",
       "  ribasso_di_aggiudicazione offerta_in_aumento imp_di_aggiudicazione  \\\n",
       "0                    15.423                NaN         1768351.07000   \n",
       "1                    20.498                NaN        10806489.05000   \n",
       "2                    20.498                NaN        10806489.05000   \n",
       "\n",
       "  data_aggiudicazione_definitiva    data_pubblicazione_scp_y id_gruppo  \\\n",
       "0     \"2005-07-20T22:00:00.000Z\"  \"2012-01-08T23:00:00.000Z\"       NaN   \n",
       "1     \"2006-06-29T22:00:00.000Z\"  \"2010-01-11T23:00:00.000Z\"       1.0   \n",
       "2     \"2006-06-29T22:00:00.000Z\"  \"2010-01-11T23:00:00.000Z\"       1.0   \n",
       "\n",
       "      ruolo                         aggiudicatario  cf_aggiudicatario  \\\n",
       "0       NaN                     COGEMA COSTRUZIONI        03444941219   \n",
       "1  Mandante  ARMAFER DEL DOTT. MICHELE MORELLI SRL        00433180759   \n",
       "2  Mandante                            GECOPRA SRL        05614550639   \n",
       "\n",
       "                                           url_esito  \n",
       "0  https://www.serviziocontrattipubblici.it/SPInA...  \n",
       "1  https://www.serviziocontrattipubblici.it/SPInA...  \n",
       "2  https://www.serviziocontrattipubblici.it/SPInA...  \n",
       "\n",
       "[3 rows x 82 columns]"
      ]
     },
     "execution_count": 7,
     "metadata": {},
     "output_type": "execute_result"
    }
   ],
   "source": [
    "fusione = pd.merge(bandi, esiti, on = 'id_gara')\n",
    "fusione.head(3)"
   ]
  },
  {
   "cell_type": "markdown",
   "metadata": {},
   "source": [
    "Notiamo che `bandi` e `esiti` condividono diversi nomi di colonne: dobbiamo vedere quale è l'effetto. Calcoliamo i nomi condivisi da entrambi i DataFrame."
   ]
  },
  {
   "cell_type": "code",
   "execution_count": 14,
   "metadata": {},
   "outputs": [
    {
     "name": "stdout",
     "output_type": "stream",
     "text": [
      "{'num_tot_lotti', 'tipo_appalto', 'settore', 'id_lotto', 'somma_urgenza', 'importo_gara', 'tipo_procedura', 'data_pubblicazione_scp', 'luogo_esecuzione_nuts', 'ufficio', 'cig', 'criterio_aggiudicazione', 'codice_fiscale_stazione_appaltante', 'cpv', 'la_sa_agisce_per_conto_di_altro_soggetto', 'cup', 'soggetto_per_cui_agisce_la_sa', 'nr_lotto', 'luogo_esecuzione_istat', 'oggetto_lotto', 'numero_gara_anac', 'classifica', 'provincia_stazione_appaltante', 'cf_rup', 'imp_sicurezza', 'categoria_prevalente', 'id_gara', 'rup', 'modalita_realizzazione', 'codice_istat_stazione_appaltante', 'imp_lotto', 'denominazione_stazione_appaltante', 'imp_lotto_netto_sicurezza', 'oggetto_della_gara'}\n"
     ]
    }
   ],
   "source": [
    "print(set(bandi.columns).intersection(set(esiti.columns)))"
   ]
  },
  {
   "cell_type": "markdown",
   "metadata": {},
   "source": [
    "## Risultato della fusione: colonne\n",
    "\n",
    "Analizziamo i nomi delle colonne del nuovo DataFrame `fusione`."
   ]
  },
  {
   "cell_type": "code",
   "execution_count": 15,
   "metadata": {},
   "outputs": [
    {
     "data": {
      "text/plain": [
       "Index(['id_gara', 'oggetto_della_gara_x', 'numero_gara_anac_x', 'settore_x',\n",
       "       'modalita_realizzazione_x', 'importo_gara_x', 'num_tot_lotti_x',\n",
       "       'rup_x', 'cf_rup_x', 'codice_fiscale_stazione_appaltante_x',\n",
       "       'codice_istat_stazione_appaltante_x',\n",
       "       'denominazione_stazione_appaltante_x',\n",
       "       'provincia_stazione_appaltante_x', 'ufficio_x',\n",
       "       'la_sa_agisce_per_conto_di_altro_soggetto_x',\n",
       "       'soggetto_per_cui_agisce_la_sa_x', 'data_pubblicazione_bando',\n",
       "       'data_scadenza_bando', 'id_lotto_x', 'cig_x', 'oggetto_lotto_x',\n",
       "       'nr_lotto_x', 'somma_urgenza_x', 'tipo_appalto_x', 'tipo_procedura_x',\n",
       "       'criterio_aggiudicazione_x', 'imp_lotto_netto_sicurezza_x',\n",
       "       'imp_sicurezza_x', 'imp_lotto_x', 'cup_x', 'cpv_x',\n",
       "       'categoria_prevalente_x', 'classifica_x', 'luogo_esecuzione_istat_x',\n",
       "       'luogo_esecuzione_nuts_x', 'url_bando', 'data_pubblicazione_scp_x',\n",
       "       'oggetto_della_gara_y', 'numero_gara_anac_y', 'settore_y',\n",
       "       'modalita_realizzazione_y', 'importo_gara_y', 'num_tot_lotti_y',\n",
       "       'rup_y', 'cf_rup_y', 'codice_fiscale_stazione_appaltante_y',\n",
       "       'codice_istat_stazione_appaltante_y',\n",
       "       'denominazione_stazione_appaltante_y',\n",
       "       'provincia_stazione_appaltante_y', 'ufficio_y',\n",
       "       'la_sa_agisce_per_conto_di_altro_soggetto_y',\n",
       "       'soggetto_per_cui_agisce_la_sa_y', 'id_lotto_y', 'cig_y',\n",
       "       'oggetto_lotto_y', 'nr_lotto_y', 'somma_urgenza_y', 'tipo_appalto_y',\n",
       "       'tipo_procedura_y', 'criterio_aggiudicazione_y',\n",
       "       'imp_lotto_netto_sicurezza_y', 'imp_sicurezza_y', 'imp_lotto_y',\n",
       "       'cup_y', 'cpv_y', 'categoria_prevalente_y', 'classifica_y',\n",
       "       'luogo_esecuzione_istat_y', 'luogo_esecuzione_nuts_y', 'num_ordine',\n",
       "       'tipo_atto_o_documento', 'data_pubblicazione_esito',\n",
       "       'ribasso_di_aggiudicazione', 'offerta_in_aumento',\n",
       "       'imp_di_aggiudicazione', 'data_aggiudicazione_definitiva',\n",
       "       'data_pubblicazione_scp_y', 'id_gruppo', 'ruolo', 'aggiudicatario',\n",
       "       'cf_aggiudicatario', 'url_esito'],\n",
       "      dtype='object')"
      ]
     },
     "execution_count": 15,
     "metadata": {},
     "output_type": "execute_result"
    }
   ],
   "source": [
    "fusione.columns"
   ]
  },
  {
   "cell_type": "markdown",
   "metadata": {},
   "source": [
    "Siccome sia `bandi` che `esiti` hanno una colonna `num_tot_lotti`, nel DataFrame `fusione` si trovano le colonne `num_tot_lotti_x` (che si riferisce a `num_tot_lotti` di `bandi`) e `num_tot_lotti_y` (che si riferisce a `num_tot_lotti` di `esiti`)."
   ]
  },
  {
   "cell_type": "markdown",
   "metadata": {},
   "source": [
    "## Risultato della fusione: righe\n",
    "\n",
    "Ogni riga del DataFrame `fusione` consiste di:\n",
    "*  una riga di `bandi`\n",
    "*  una riga di `esiti`.\n",
    "\n",
    "Più precisamente, le righe di `fusione` corrispondono a **tutte** le coppie di righe, una di `bandi` e una di `esiti` che condividono lo stesso valore della colonna `id_gara`.\n",
    "\n",
    "Andiamo ad analizzare alcune righe di `fusione`, partendo da quelle con `id_gara` uguale a 70411."
   ]
  },
  {
   "cell_type": "code",
   "execution_count": 66,
   "metadata": {},
   "outputs": [
    {
     "data": {
      "text/plain": [
       "1"
      ]
     },
     "execution_count": 66,
     "metadata": {},
     "output_type": "execute_result"
    }
   ],
   "source": [
    "len(bandi[bandi['id_gara'] == 70411])"
   ]
  },
  {
   "cell_type": "code",
   "execution_count": 67,
   "metadata": {},
   "outputs": [
    {
     "data": {
      "text/plain": [
       "1"
      ]
     },
     "execution_count": 67,
     "metadata": {},
     "output_type": "execute_result"
    }
   ],
   "source": [
    "len(esiti[esiti['id_gara'] == 70411])"
   ]
  },
  {
   "cell_type": "code",
   "execution_count": 68,
   "metadata": {},
   "outputs": [
    {
     "data": {
      "text/plain": [
       "1"
      ]
     },
     "execution_count": 68,
     "metadata": {},
     "output_type": "execute_result"
    }
   ],
   "source": [
    "len(fusione[fusione['id_gara'] == 70411])"
   ]
  },
  {
   "cell_type": "markdown",
   "metadata": {},
   "source": [
    "In questo caso, sia `bandi` che  `esiti` hanno una sola riga con `id_gara` 70411: di conseguenza anche `fusione` ha una sola riga con tale `id_gara`."
   ]
  },
  {
   "cell_type": "markdown",
   "metadata": {},
   "source": [
    "## Risultato della  fusione: righe (2)\n",
    "\n",
    "Controlliamo adesso un altro caso: `id_gara` uguale a 70517. Ancora una volta calcoliamo quante righe di `bandi`, `esiti`, e `fusione` abbiamo con questo valore di `id_gara`."
   ]
  },
  {
   "cell_type": "code",
   "execution_count": 20,
   "metadata": {},
   "outputs": [
    {
     "data": {
      "text/plain": [
       "1"
      ]
     },
     "execution_count": 20,
     "metadata": {},
     "output_type": "execute_result"
    }
   ],
   "source": [
    "list(bandi['id_gara'] == 70517).count(True)"
   ]
  },
  {
   "cell_type": "code",
   "execution_count": 21,
   "metadata": {},
   "outputs": [
    {
     "data": {
      "text/plain": [
       "4"
      ]
     },
     "execution_count": 21,
     "metadata": {},
     "output_type": "execute_result"
    }
   ],
   "source": [
    "list(esiti['id_gara'] == 70517).count(True)"
   ]
  },
  {
   "cell_type": "code",
   "execution_count": 22,
   "metadata": {},
   "outputs": [
    {
     "data": {
      "text/plain": [
       "4"
      ]
     },
     "execution_count": 22,
     "metadata": {},
     "output_type": "execute_result"
    }
   ],
   "source": [
    "list(fusione['id_gara'] == 70517).count(True)"
   ]
  },
  {
   "cell_type": "markdown",
   "metadata": {},
   "source": [
    "Questo è il caso più frequente: il valore è presente in una sola riga di una tabella, ma in più righe della seconda tabella."
   ]
  },
  {
   "cell_type": "markdown",
   "metadata": {},
   "source": [
    "## Risultato della  fusione: righe (3)\n",
    "\n",
    "Cerchiamo il valore di `id_gara` che è presente nel numero massimo di righe di `bandi`. Questo richiede di utilizzare un raggruppamento e una `idxmax`. Iniziamo con contare, per ogni valore di `id_gara`, quante righe di `bandi` hanno tale valore."
   ]
  },
  {
   "cell_type": "code",
   "execution_count": 23,
   "metadata": {},
   "outputs": [],
   "source": [
    "conteggio = bandi.groupby('id_gara').count()['numero_gara_anac']"
   ]
  },
  {
   "cell_type": "markdown",
   "metadata": {},
   "source": [
    "Controlliamo quante righe dei vari DataFrame hanno 149259 come `id_gara`"
   ]
  },
  {
   "cell_type": "code",
   "execution_count": 25,
   "metadata": {},
   "outputs": [
    {
     "data": {
      "text/plain": [
       "2135"
      ]
     },
     "execution_count": 25,
     "metadata": {},
     "output_type": "execute_result"
    }
   ],
   "source": [
    "list(bandi['id_gara'] == caso).count(True)"
   ]
  },
  {
   "cell_type": "code",
   "execution_count": 26,
   "metadata": {},
   "outputs": [
    {
     "data": {
      "text/plain": [
       "1428"
      ]
     },
     "execution_count": 26,
     "metadata": {},
     "output_type": "execute_result"
    }
   ],
   "source": [
    "list(esiti['id_gara'] == caso).count(True)"
   ]
  },
  {
   "cell_type": "code",
   "execution_count": null,
   "metadata": {},
   "outputs": [
    {
     "data": {
      "text/plain": [
       "3048780"
      ]
     },
     "execution_count": 27,
     "metadata": {},
     "output_type": "execute_result"
    }
   ],
   "source": [
    "list(fusione['id_gara'] == caso).count(True)"
   ]
  }
 ],
 "metadata": {
  "kernelspec": {
   "display_name": "Python 3",
   "language": "python",
   "name": "python3"
  },
  "language_info": {
   "codemirror_mode": {
    "name": "ipython",
    "version": 3
   },
   "file_extension": ".py",
   "mimetype": "text/x-python",
   "name": "python",
   "nbconvert_exporter": "python",
   "pygments_lexer": "ipython3",
   "version": "3.6.7"
  }
 },
 "nbformat": 4,
 "nbformat_minor": 2
}
