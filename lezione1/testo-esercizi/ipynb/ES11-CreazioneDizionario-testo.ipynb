{
 "cells": [
  {
   "cell_type": "markdown",
   "metadata": {},
   "source": [
    "### ESERCIZIO 11 - Creazione, accesso e aggiornamento di un dizionario\n",
    "\n",
    "Creare un dizionario per memorizzare le età dei 4 componenti della famiglia Rossi, dove le chiavi sono i nomi dei componenti e i valori sono le età. Precisamente la famiglia Rossi è composta da:\n",
    "\n",
    "- Silvia che ha 45 anni\n",
    "- Roberto che ha 47 anni\n",
    "- Arianna che ha 18 anni\n",
    "- Tommaso che ha 13 anni\n",
    "\n",
    "Viene in seguito richiesto di:\n",
    "\n",
    "- produrre la dimensione del dizionario\n",
    "- produrre l'età di Arianna e aggiornarla poi a 19 anni\n",
    "- aggiungere al dizionario l'età di Aurora che ha un anno\n",
    "- verificare infine la presenza nel dizionario di Roberto"
   ]
  }
 ],
 "metadata": {
  "kernelspec": {
   "display_name": "Python 3",
   "language": "python",
   "name": "python3"
  },
  "language_info": {
   "codemirror_mode": {
    "name": "ipython",
    "version": 3
   },
   "file_extension": ".py",
   "mimetype": "text/x-python",
   "name": "python",
   "nbconvert_exporter": "python",
   "pygments_lexer": "ipython3",
   "version": "3.7.1"
  }
 },
 "nbformat": 4,
 "nbformat_minor": 2
}
