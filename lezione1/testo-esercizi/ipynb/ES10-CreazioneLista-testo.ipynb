{
 "cells": [
  {
   "cell_type": "markdown",
   "metadata": {},
   "source": [
    "### ESERCIZIO 10 - Creazione, accesso e aggiornamento di una lista\n",
    "\n",
    "Creare una lista di 6 elementi in cui sia presente almeno un valore intero, un valore decimale, una stringa e un valore booleano. Accedere al terzo elemento e in seguito aggiornarlo con la stringa **gatto**. Accedere poi alla sottolista che va dal secondo al quarto elemento e aggiornarla con la lista vuota.\n",
    "\n",
    "Verificare poi:\n",
    "- se il secondo elemento della lista è diverso dall'intero 345\n",
    "- se l'intero 345 è presente nella lista\n",
    "- se due elementi a scelta sono presenti contemporaneamente nella lista \n",
    "- se almeno uno tra due elementi a scelta è presente nella lista"
   ]
  }
 ],
 "metadata": {
  "kernelspec": {
   "display_name": "Python 3",
   "language": "python",
   "name": "python3"
  },
  "language_info": {
   "codemirror_mode": {
    "name": "ipython",
    "version": 3
   },
   "file_extension": ".py",
   "mimetype": "text/x-python",
   "name": "python",
   "nbconvert_exporter": "python",
   "pygments_lexer": "ipython3",
   "version": "3.7.1"
  }
 },
 "nbformat": 4,
 "nbformat_minor": 2
}
