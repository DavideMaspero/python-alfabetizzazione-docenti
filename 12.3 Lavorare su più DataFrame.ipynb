{
 "cells": [
  {
   "cell_type": "markdown",
   "metadata": {},
   "source": [
    "# Caso di studio"
   ]
  },
  {
   "cell_type": "code",
   "execution_count": 1,
   "metadata": {},
   "outputs": [],
   "source": [
    "import pandas as pd"
   ]
  },
  {
   "cell_type": "markdown",
   "metadata": {},
   "source": [
    "## Caso di studio\n",
    "\n",
    "Spesso è necessario fondere più DataFrame per estrarre informazioni dai dati. Vedremo adesso alcuni casi esemplificativi sui dati relativi al sistema universitario.\n",
    "\n",
    "Calcoliamo, per ogni Ateneo, il rapporto fra il totale delle spese e il numero totali di studenti iscritti. Solo alcune righe di `iscritti` riportano il numero totale di studenti iscritte, le altre righe non sono interessanti per questa analisi. Controlliamo i valori presenti nella colonna `DESCRIZIONE_ISCRIZIONE` per capire come selezionare le righe che interessano."
   ]
  },
  {
   "cell_type": "code",
   "execution_count": 30,
   "metadata": {},
   "outputs": [
    {
     "data": {
      "text/plain": [
       "array(['Totale iscritti',\n",
       "       'Totale iscritti - di cui assegnatari di borsa di studio di dottorato di ricerca (DM 30/4/99 n. 224, art 7)',\n",
       "       'Totale iscritti - di cui studenti con parziale copertura delle tasse da enti esterni',\n",
       "       'Totale iscritti - di cui studenti iscritti a tempo parziale'],\n",
       "      dtype=object)"
      ]
     },
     "execution_count": 30,
     "metadata": {},
     "output_type": "execute_result"
    }
   ],
   "source": [
    "iscritti['DESCRIZIONE_ISCRIZIONE'].unique()"
   ]
  },
  {
   "cell_type": "markdown",
   "metadata": {},
   "source": [
    "Quindi dobbiamo selezionare le righe dove `DESCRIZIONE_ISCRIZIONE` è uguale a `Totale iscritti`."
   ]
  },
  {
   "cell_type": "markdown",
   "metadata": {},
   "source": [
    "## Iscritti di ogni Ateneo\n",
    "\n",
    "Selezioniamo gli studenti iscritti di ogni Ateneo"
   ]
  },
  {
   "cell_type": "code",
   "execution_count": 41,
   "metadata": {},
   "outputs": [
    {
     "data": {
      "text/html": [
       "<div>\n",
       "<style scoped>\n",
       "    .dataframe tbody tr th:only-of-type {\n",
       "        vertical-align: middle;\n",
       "    }\n",
       "\n",
       "    .dataframe tbody tr th {\n",
       "        vertical-align: top;\n",
       "    }\n",
       "\n",
       "    .dataframe thead th {\n",
       "        text-align: right;\n",
       "    }\n",
       "</style>\n",
       "<table border=\"1\" class=\"dataframe\">\n",
       "  <thead>\n",
       "    <tr style=\"text-align: right;\">\n",
       "      <th></th>\n",
       "      <th>ANNO_ACCADEMICO</th>\n",
       "      <th>COD_ATENEO</th>\n",
       "      <th>NOME_ATENEO</th>\n",
       "      <th>CODICE_ISCRIZIONE</th>\n",
       "      <th>DESCRIZIONE_ISCRIZIONE</th>\n",
       "      <th>ISCRITTI_LAUREA</th>\n",
       "      <th>ISCRITTI_DOTTORATO</th>\n",
       "      <th>ISCRITTI_SPECIALIZZAZIONE</th>\n",
       "      <th>ISCRITTI_MASTER_PERFEZIONAMENTO</th>\n",
       "    </tr>\n",
       "  </thead>\n",
       "  <tbody>\n",
       "    <tr>\n",
       "      <th>0</th>\n",
       "      <td>2008-2009</td>\n",
       "      <td>101</td>\n",
       "      <td>Torino - Università degli studi</td>\n",
       "      <td>T1</td>\n",
       "      <td>Totale iscritti</td>\n",
       "      <td>63494.0</td>\n",
       "      <td>1255.0</td>\n",
       "      <td>1982.0</td>\n",
       "      <td>1227.0</td>\n",
       "    </tr>\n",
       "    <tr>\n",
       "      <th>1</th>\n",
       "      <td>2008-2009</td>\n",
       "      <td>102</td>\n",
       "      <td>Torino - Politecnico</td>\n",
       "      <td>T1</td>\n",
       "      <td>Totale iscritti</td>\n",
       "      <td>25399.0</td>\n",
       "      <td>689.0</td>\n",
       "      <td>30.0</td>\n",
       "      <td>260.0</td>\n",
       "    </tr>\n",
       "    <tr>\n",
       "      <th>2</th>\n",
       "      <td>2008-2009</td>\n",
       "      <td>201</td>\n",
       "      <td>Vercelli - Università degli studi del Piemonte...</td>\n",
       "      <td>T1</td>\n",
       "      <td>Totale iscritti</td>\n",
       "      <td>9470.0</td>\n",
       "      <td>182.0</td>\n",
       "      <td>267.0</td>\n",
       "      <td>175.0</td>\n",
       "    </tr>\n",
       "    <tr>\n",
       "      <th>3</th>\n",
       "      <td>2008-2009</td>\n",
       "      <td>401</td>\n",
       "      <td>Bra (CN) - Università di Scienze Gastronomiche</td>\n",
       "      <td>T1</td>\n",
       "      <td>Totale iscritti</td>\n",
       "      <td>229.0</td>\n",
       "      <td>0.0</td>\n",
       "      <td>0.0</td>\n",
       "      <td>24.0</td>\n",
       "    </tr>\n",
       "  </tbody>\n",
       "</table>\n",
       "</div>"
      ],
      "text/plain": [
       "  ANNO_ACCADEMICO  COD_ATENEO  \\\n",
       "0       2008-2009         101   \n",
       "1       2008-2009         102   \n",
       "2       2008-2009         201   \n",
       "3       2008-2009         401   \n",
       "\n",
       "                                         NOME_ATENEO CODICE_ISCRIZIONE  \\\n",
       "0                    Torino - Università degli studi               T1    \n",
       "1                               Torino - Politecnico               T1    \n",
       "2  Vercelli - Università degli studi del Piemonte...               T1    \n",
       "3     Bra (CN) - Università di Scienze Gastronomiche               T1    \n",
       "\n",
       "  DESCRIZIONE_ISCRIZIONE  ISCRITTI_LAUREA  ISCRITTI_DOTTORATO  \\\n",
       "0        Totale iscritti          63494.0              1255.0   \n",
       "1        Totale iscritti          25399.0               689.0   \n",
       "2        Totale iscritti           9470.0               182.0   \n",
       "3        Totale iscritti            229.0                 0.0   \n",
       "\n",
       "   ISCRITTI_SPECIALIZZAZIONE  ISCRITTI_MASTER_PERFEZIONAMENTO  \n",
       "0                     1982.0                           1227.0  \n",
       "1                       30.0                            260.0  \n",
       "2                      267.0                            175.0  \n",
       "3                        0.0                             24.0  "
      ]
     },
     "execution_count": 41,
     "metadata": {},
     "output_type": "execute_result"
    }
   ],
   "source": [
    "iscritti_ateneo = iscritti[iscritti['DESCRIZIONE_ISCRIZIONE'] == 'Totale iscritti']\n",
    "iscritti_ateneo.head(4)"
   ]
  },
  {
   "cell_type": "markdown",
   "metadata": {},
   "source": [
    "## Iscritti di ogni Ateneo 2"
   ]
  },
  {
   "cell_type": "markdown",
   "metadata": {},
   "source": [
    "Una veloce  analisi del nuovo DataFrame (ad esempio guardando l'insieme delle colonne) mostra che esistono 4 tipologie di iscritti e che ogni Ateneo è presente in più righe, una per ogni anno.\n",
    "\n",
    "Per evitare di avere un'analisi influenzata eccessivamente questo ultimo aspetto (ad esempio, l'università *Roma - Link Campus University* compare in una sola riga):\n",
    "1.  costruiamo una nuova colonna `iscritti` con il totale degli iscritti;\n",
    "2.  calcoliamo il numero medio di iscritti per ogni ateneo."
   ]
  },
  {
   "cell_type": "code",
   "execution_count": 45,
   "metadata": {},
   "outputs": [],
   "source": [
    "iscritti_ateneo.loc[:, 'iscritti'] = iscritti_ateneo['ISCRITTI_LAUREA'] + \\\n",
    "                              iscritti_ateneo['ISCRITTI_DOTTORATO'] + \\\n",
    "                              iscritti_ateneo['ISCRITTI_SPECIALIZZAZIONE'] + \\\n",
    "                              iscritti_ateneo['ISCRITTI_MASTER_PERFEZIONAMENTO']"
   ]
  },
  {
   "cell_type": "markdown",
   "metadata": {},
   "source": [
    "## Numero medio di iscritti\n",
    "\n",
    "Adesso possiamo calcolare il numero medio di iscritti per ogni Ateneo"
   ]
  },
  {
   "cell_type": "code",
   "execution_count": 69,
   "metadata": {},
   "outputs": [
    {
     "data": {
      "text/html": [
       "<div>\n",
       "<style scoped>\n",
       "    .dataframe tbody tr th:only-of-type {\n",
       "        vertical-align: middle;\n",
       "    }\n",
       "\n",
       "    .dataframe tbody tr th {\n",
       "        vertical-align: top;\n",
       "    }\n",
       "\n",
       "    .dataframe thead th {\n",
       "        text-align: right;\n",
       "    }\n",
       "</style>\n",
       "<table border=\"1\" class=\"dataframe\">\n",
       "  <thead>\n",
       "    <tr style=\"text-align: right;\">\n",
       "      <th></th>\n",
       "      <th>COD_ATENEO</th>\n",
       "      <th>iscritti</th>\n",
       "    </tr>\n",
       "  </thead>\n",
       "  <tbody>\n",
       "    <tr>\n",
       "      <th>0</th>\n",
       "      <td>101</td>\n",
       "      <td>68216.0</td>\n",
       "    </tr>\n",
       "    <tr>\n",
       "      <th>1</th>\n",
       "      <td>102</td>\n",
       "      <td>28546.8</td>\n",
       "    </tr>\n",
       "  </tbody>\n",
       "</table>\n",
       "</div>"
      ],
      "text/plain": [
       "   COD_ATENEO  iscritti\n",
       "0         101   68216.0\n",
       "1         102   28546.8"
      ]
     },
     "execution_count": 69,
     "metadata": {},
     "output_type": "execute_result"
    }
   ],
   "source": [
    "iscritti_medio = iscritti_ateneo.groupby('COD_ATENEO', \n",
    "                                         as_index = False).mean()[['COD_ATENEO', 'iscritti']]\n",
    "iscritti_medio.head(2)"
   ]
  },
  {
   "cell_type": "markdown",
   "metadata": {},
   "source": [
    "Passiamo ad analizzare il DataFrame `gettito`, a partire dalle sue colonne."
   ]
  },
  {
   "cell_type": "code",
   "execution_count": 49,
   "metadata": {},
   "outputs": [
    {
     "data": {
      "text/plain": [
       "Index(['ANNO_SOLARE', 'COD_Ateneo', 'NOME_ATENEO', 'CODICE_GETTITO',\n",
       "       'DESCRIZIONE_GETTITO', 'CONSUNTIVO'],\n",
       "      dtype='object')"
      ]
     },
     "execution_count": 49,
     "metadata": {},
     "output_type": "execute_result"
    }
   ],
   "source": [
    "gettito.columns"
   ]
  },
  {
   "cell_type": "markdown",
   "metadata": {},
   "source": [
    "## Gettito medio\n",
    "\n",
    "Per coerenza con quanto fatto per gli iscritti, andiamo a calcolare per ogni Ateneo, il gettito medio (calcolando la media sugli anni solari), in modo da rendere omogenei i dati su Atenei diversi.\n",
    "\n",
    "Ciò richiede due passaggio:\n",
    "1.  per ogni Ateneo e ogni anno, calcolare il gettito totale\n",
    "2.  per ogni Ateneo, calcolare il gettito medio. Questo punto richiede che `COD_Ateneo` sia una variabile, non parte dell'indice, del DataFrame ottenuto al punto precedente."
   ]
  },
  {
   "cell_type": "code",
   "execution_count": 50,
   "metadata": {
    "scrolled": true
   },
   "outputs": [],
   "source": [
    "gettito_totale = gettito.groupby(['COD_Ateneo', 'ANNO_SOLARE'], as_index = False).sum()[['COD_Ateneo', 'ANNO_SOLARE', 'CONSUNTIVO']]"
   ]
  },
  {
   "cell_type": "code",
   "execution_count": 51,
   "metadata": {},
   "outputs": [],
   "source": [
    "gettito_medio = gettito_totale.groupby('COD_Ateneo', as_index = False).mean()[['COD_Ateneo', 'CONSUNTIVO']]"
   ]
  },
  {
   "cell_type": "code",
   "execution_count": 63,
   "metadata": {},
   "outputs": [
    {
     "data": {
      "text/html": [
       "<div>\n",
       "<style scoped>\n",
       "    .dataframe tbody tr th:only-of-type {\n",
       "        vertical-align: middle;\n",
       "    }\n",
       "\n",
       "    .dataframe tbody tr th {\n",
       "        vertical-align: top;\n",
       "    }\n",
       "\n",
       "    .dataframe thead th {\n",
       "        text-align: right;\n",
       "    }\n",
       "</style>\n",
       "<table border=\"1\" class=\"dataframe\">\n",
       "  <thead>\n",
       "    <tr style=\"text-align: right;\">\n",
       "      <th></th>\n",
       "      <th>COD_Ateneo</th>\n",
       "      <th>CONSUNTIVO</th>\n",
       "    </tr>\n",
       "  </thead>\n",
       "  <tbody>\n",
       "    <tr>\n",
       "      <th>0</th>\n",
       "      <td>101</td>\n",
       "      <td>8.825587e+07</td>\n",
       "    </tr>\n",
       "    <tr>\n",
       "      <th>1</th>\n",
       "      <td>102</td>\n",
       "      <td>2.862463e+07</td>\n",
       "    </tr>\n",
       "  </tbody>\n",
       "</table>\n",
       "</div>"
      ],
      "text/plain": [
       "   COD_Ateneo    CONSUNTIVO\n",
       "0         101  8.825587e+07\n",
       "1         102  2.862463e+07"
      ]
     },
     "execution_count": 63,
     "metadata": {},
     "output_type": "execute_result"
    }
   ],
   "source": [
    "gettito_medio.head(2)"
   ]
  },
  {
   "cell_type": "markdown",
   "metadata": {},
   "source": [
    "## Calcolo rapporto\n",
    "\n",
    "Per calcolare il rapporto desiderato, dobbiamo fondere i DataFrame. Sul risultato possiamo poi aggiungere la nuova colonna."
   ]
  },
  {
   "cell_type": "code",
   "execution_count": 70,
   "metadata": {},
   "outputs": [
    {
     "data": {
      "text/html": [
       "<div>\n",
       "<style scoped>\n",
       "    .dataframe tbody tr th:only-of-type {\n",
       "        vertical-align: middle;\n",
       "    }\n",
       "\n",
       "    .dataframe tbody tr th {\n",
       "        vertical-align: top;\n",
       "    }\n",
       "\n",
       "    .dataframe thead th {\n",
       "        text-align: right;\n",
       "    }\n",
       "</style>\n",
       "<table border=\"1\" class=\"dataframe\">\n",
       "  <thead>\n",
       "    <tr style=\"text-align: right;\">\n",
       "      <th></th>\n",
       "      <th>COD_Ateneo</th>\n",
       "      <th>CONSUNTIVO</th>\n",
       "      <th>COD_ATENEO</th>\n",
       "      <th>iscritti</th>\n",
       "    </tr>\n",
       "  </thead>\n",
       "  <tbody>\n",
       "    <tr>\n",
       "      <th>0</th>\n",
       "      <td>101</td>\n",
       "      <td>8.825587e+07</td>\n",
       "      <td>101</td>\n",
       "      <td>68216.0</td>\n",
       "    </tr>\n",
       "    <tr>\n",
       "      <th>1</th>\n",
       "      <td>102</td>\n",
       "      <td>2.862463e+07</td>\n",
       "      <td>102</td>\n",
       "      <td>28546.8</td>\n",
       "    </tr>\n",
       "    <tr>\n",
       "      <th>2</th>\n",
       "      <td>201</td>\n",
       "      <td>9.896148e+06</td>\n",
       "      <td>201</td>\n",
       "      <td>10082.4</td>\n",
       "    </tr>\n",
       "    <tr>\n",
       "      <th>3</th>\n",
       "      <td>401</td>\n",
       "      <td>3.921876e+06</td>\n",
       "      <td>401</td>\n",
       "      <td>301.2</td>\n",
       "    </tr>\n",
       "    <tr>\n",
       "      <th>4</th>\n",
       "      <td>701</td>\n",
       "      <td>9.898892e+05</td>\n",
       "      <td>701</td>\n",
       "      <td>1148.6</td>\n",
       "    </tr>\n",
       "  </tbody>\n",
       "</table>\n",
       "</div>"
      ],
      "text/plain": [
       "   COD_Ateneo    CONSUNTIVO  COD_ATENEO  iscritti\n",
       "0         101  8.825587e+07         101   68216.0\n",
       "1         102  2.862463e+07         102   28546.8\n",
       "2         201  9.896148e+06         201   10082.4\n",
       "3         401  3.921876e+06         401     301.2\n",
       "4         701  9.898892e+05         701    1148.6"
      ]
     },
     "execution_count": 70,
     "metadata": {},
     "output_type": "execute_result"
    }
   ],
   "source": [
    "fuso = pd.merge(gettito_medio, iscritti_medio, left_on = 'COD_Ateneo', right_on = 'COD_ATENEO')\n",
    "fuso.head()"
   ]
  },
  {
   "cell_type": "markdown",
   "metadata": {},
   "source": [
    "## Calcolo rapporto 2\n",
    "\n",
    "Adesso calcoliamo la colonna `rapporto`."
   ]
  },
  {
   "cell_type": "code",
   "execution_count": 71,
   "metadata": {},
   "outputs": [
    {
     "data": {
      "text/html": [
       "<div>\n",
       "<style scoped>\n",
       "    .dataframe tbody tr th:only-of-type {\n",
       "        vertical-align: middle;\n",
       "    }\n",
       "\n",
       "    .dataframe tbody tr th {\n",
       "        vertical-align: top;\n",
       "    }\n",
       "\n",
       "    .dataframe thead th {\n",
       "        text-align: right;\n",
       "    }\n",
       "</style>\n",
       "<table border=\"1\" class=\"dataframe\">\n",
       "  <thead>\n",
       "    <tr style=\"text-align: right;\">\n",
       "      <th></th>\n",
       "      <th>COD_Ateneo</th>\n",
       "      <th>CONSUNTIVO</th>\n",
       "      <th>COD_ATENEO</th>\n",
       "      <th>iscritti</th>\n",
       "      <th>rapporto</th>\n",
       "    </tr>\n",
       "  </thead>\n",
       "  <tbody>\n",
       "    <tr>\n",
       "      <th>0</th>\n",
       "      <td>101</td>\n",
       "      <td>8.825587e+07</td>\n",
       "      <td>101</td>\n",
       "      <td>68216.0</td>\n",
       "      <td>1293.770769</td>\n",
       "    </tr>\n",
       "    <tr>\n",
       "      <th>1</th>\n",
       "      <td>102</td>\n",
       "      <td>2.862463e+07</td>\n",
       "      <td>102</td>\n",
       "      <td>28546.8</td>\n",
       "      <td>1002.726255</td>\n",
       "    </tr>\n",
       "    <tr>\n",
       "      <th>2</th>\n",
       "      <td>201</td>\n",
       "      <td>9.896148e+06</td>\n",
       "      <td>201</td>\n",
       "      <td>10082.4</td>\n",
       "      <td>981.527057</td>\n",
       "    </tr>\n",
       "    <tr>\n",
       "      <th>3</th>\n",
       "      <td>401</td>\n",
       "      <td>3.921876e+06</td>\n",
       "      <td>401</td>\n",
       "      <td>301.2</td>\n",
       "      <td>13020.837981</td>\n",
       "    </tr>\n",
       "  </tbody>\n",
       "</table>\n",
       "</div>"
      ],
      "text/plain": [
       "   COD_Ateneo    CONSUNTIVO  COD_ATENEO  iscritti      rapporto\n",
       "0         101  8.825587e+07         101   68216.0   1293.770769\n",
       "1         102  2.862463e+07         102   28546.8   1002.726255\n",
       "2         201  9.896148e+06         201   10082.4    981.527057\n",
       "3         401  3.921876e+06         401     301.2  13020.837981"
      ]
     },
     "execution_count": 71,
     "metadata": {},
     "output_type": "execute_result"
    }
   ],
   "source": [
    "fuso['rapporto'] = fuso['CONSUNTIVO'] / fuso['iscritti']\n",
    "fuso.head(4)"
   ]
  },
  {
   "cell_type": "markdown",
   "metadata": {},
   "source": [
    "## Verifica fusione\n",
    "\n",
    "E' sempre opportuno verificare la correttezza di una `merge`: in questo caso quella che ha prodotto il DataFrame `gettito_fuso`.\n",
    "\n",
    "In particolare, bisogna:\n",
    "1.  eseguire la merge con `how` uguale a `outer` per verificare che non ci siano atenei non presenti in `gettito_fuso`\n",
    "2.  aggiungere l'opzione `validate` per verificare che non ci siano atenei presenti in più righe.\n",
    "3.  controllare che il risultato di questa nuova `merge` abbia lo stesso numero di righe di `gettito_fuso`"
   ]
  },
  {
   "cell_type": "code",
   "execution_count": 72,
   "metadata": {},
   "outputs": [
    {
     "data": {
      "text/plain": [
       "True"
      ]
     },
     "execution_count": 72,
     "metadata": {},
     "output_type": "execute_result"
    }
   ],
   "source": [
    "completo = pd.merge(gettito_medio, iscritti_medio, left_on = 'COD_Ateneo', right_on = 'COD_ATENEO',\n",
    "                    validate = '1:1',\n",
    "                    how = 'outer')\n",
    "len(fuso) == len(completo)"
   ]
  },
  {
   "cell_type": "markdown",
   "metadata": {},
   "source": [
    "## Completamento risultati\n",
    "\n",
    "Il DataFrame `gettito_fuso` ha il rapporto desiderato ma, nei vari passaggi, abbiamo perso traccia dei nomi degli Atenei (abbiamo solo il codice). Diventa necessaria una nuova fusione per reperire questi dati.\n",
    "\n",
    "Siccome non abbiamo un DataFrame con i soli nomi degli Atenei, dobbiamo crearlo a partire (ad esempio) dal DataFrame `iscritti`."
   ]
  },
  {
   "cell_type": "code",
   "execution_count": 56,
   "metadata": {},
   "outputs": [
    {
     "data": {
      "text/html": [
       "<div>\n",
       "<style scoped>\n",
       "    .dataframe tbody tr th:only-of-type {\n",
       "        vertical-align: middle;\n",
       "    }\n",
       "\n",
       "    .dataframe tbody tr th {\n",
       "        vertical-align: top;\n",
       "    }\n",
       "\n",
       "    .dataframe thead th {\n",
       "        text-align: right;\n",
       "    }\n",
       "</style>\n",
       "<table border=\"1\" class=\"dataframe\">\n",
       "  <thead>\n",
       "    <tr style=\"text-align: right;\">\n",
       "      <th></th>\n",
       "      <th>COD_ATENEO</th>\n",
       "      <th>NOME_ATENEO</th>\n",
       "    </tr>\n",
       "  </thead>\n",
       "  <tbody>\n",
       "    <tr>\n",
       "      <th>0</th>\n",
       "      <td>101</td>\n",
       "      <td>Torino - Università degli studi</td>\n",
       "    </tr>\n",
       "    <tr>\n",
       "      <th>1</th>\n",
       "      <td>102</td>\n",
       "      <td>Torino - Politecnico</td>\n",
       "    </tr>\n",
       "    <tr>\n",
       "      <th>2</th>\n",
       "      <td>201</td>\n",
       "      <td>Vercelli - Università degli studi del Piemonte...</td>\n",
       "    </tr>\n",
       "    <tr>\n",
       "      <th>3</th>\n",
       "      <td>401</td>\n",
       "      <td>Bra (CN) - Università di Scienze Gastronomiche</td>\n",
       "    </tr>\n",
       "    <tr>\n",
       "      <th>4</th>\n",
       "      <td>701</td>\n",
       "      <td>Aosta - Università degli studi</td>\n",
       "    </tr>\n",
       "  </tbody>\n",
       "</table>\n",
       "</div>"
      ],
      "text/plain": [
       "   COD_ATENEO                                        NOME_ATENEO\n",
       "0         101                    Torino - Università degli studi\n",
       "1         102                               Torino - Politecnico\n",
       "2         201  Vercelli - Università degli studi del Piemonte...\n",
       "3         401     Bra (CN) - Università di Scienze Gastronomiche\n",
       "4         701                     Aosta - Università degli studi"
      ]
     },
     "execution_count": 56,
     "metadata": {},
     "output_type": "execute_result"
    }
   ],
   "source": [
    "atenei = iscritti[['COD_ATENEO', 'NOME_ATENEO']].drop_duplicates()\n",
    "atenei.head()"
   ]
  },
  {
   "cell_type": "markdown",
   "metadata": {},
   "source": [
    "## Completamento risultati 2\n",
    "\n",
    "Controlliamo se esistono due righe riferite allo stesso codice di Ateneo."
   ]
  },
  {
   "cell_type": "code",
   "execution_count": 57,
   "metadata": {},
   "outputs": [
    {
     "data": {
      "text/plain": [
       "NOME_ATENEO    3\n",
       "dtype: int64"
      ]
     },
     "execution_count": 57,
     "metadata": {},
     "output_type": "execute_result"
    }
   ],
   "source": [
    "atenei.groupby('COD_ATENEO').count().max()"
   ]
  },
  {
   "cell_type": "markdown",
   "metadata": {},
   "source": [
    "Siccome esiste almeno un Ateneo memorizzato con due nomi diversi, dobbiamo ulteriormente modificare `atenei` per associare un singolo nome ad ogni codice."
   ]
  },
  {
   "cell_type": "markdown",
   "metadata": {},
   "source": [
    "## Completamento risultati 3\n",
    "\n",
    "Per associare un singolo nome ad ogni codice possiamo usare la funzione `first` che estrae la prima riga di ogni gruppo."
   ]
  },
  {
   "cell_type": "code",
   "execution_count": 58,
   "metadata": {},
   "outputs": [
    {
     "data": {
      "text/html": [
       "<div>\n",
       "<style scoped>\n",
       "    .dataframe tbody tr th:only-of-type {\n",
       "        vertical-align: middle;\n",
       "    }\n",
       "\n",
       "    .dataframe tbody tr th {\n",
       "        vertical-align: top;\n",
       "    }\n",
       "\n",
       "    .dataframe thead th {\n",
       "        text-align: right;\n",
       "    }\n",
       "</style>\n",
       "<table border=\"1\" class=\"dataframe\">\n",
       "  <thead>\n",
       "    <tr style=\"text-align: right;\">\n",
       "      <th></th>\n",
       "      <th>NOME_ATENEO</th>\n",
       "    </tr>\n",
       "    <tr>\n",
       "      <th>COD_ATENEO</th>\n",
       "      <th></th>\n",
       "    </tr>\n",
       "  </thead>\n",
       "  <tbody>\n",
       "    <tr>\n",
       "      <th>101</th>\n",
       "      <td>Torino - Università degli studi</td>\n",
       "    </tr>\n",
       "    <tr>\n",
       "      <th>102</th>\n",
       "      <td>Torino - Politecnico</td>\n",
       "    </tr>\n",
       "    <tr>\n",
       "      <th>201</th>\n",
       "      <td>Vercelli - Università degli studi del Piemonte...</td>\n",
       "    </tr>\n",
       "    <tr>\n",
       "      <th>401</th>\n",
       "      <td>Bra (CN) - Università di Scienze Gastronomiche</td>\n",
       "    </tr>\n",
       "    <tr>\n",
       "      <th>701</th>\n",
       "      <td>Aosta - Università degli studi</td>\n",
       "    </tr>\n",
       "  </tbody>\n",
       "</table>\n",
       "</div>"
      ],
      "text/plain": [
       "                                                  NOME_ATENEO\n",
       "COD_ATENEO                                                   \n",
       "101                           Torino - Università degli studi\n",
       "102                                      Torino - Politecnico\n",
       "201         Vercelli - Università degli studi del Piemonte...\n",
       "401            Bra (CN) - Università di Scienze Gastronomiche\n",
       "701                            Aosta - Università degli studi"
      ]
     },
     "execution_count": 58,
     "metadata": {},
     "output_type": "execute_result"
    }
   ],
   "source": [
    "atenei_puliti = atenei.groupby('COD_ATENEO').first()\n",
    "atenei_puliti.head()"
   ]
  },
  {
   "cell_type": "markdown",
   "metadata": {},
   "source": [
    "## Completamento risultati 4\n",
    "\n",
    "Per associare un singolo nome ad ogni codice possiamo usare la funzione `first` che estrae la prima riga di ogni gruppo."
   ]
  },
  {
   "cell_type": "markdown",
   "metadata": {},
   "source": [
    "Finalmente possiamo fondere `atenei_puliti` con `gettito_fuso` e tenere solo le colonne interessanti."
   ]
  },
  {
   "cell_type": "code",
   "execution_count": 59,
   "metadata": {},
   "outputs": [
    {
     "data": {
      "text/html": [
       "<div>\n",
       "<style scoped>\n",
       "    .dataframe tbody tr th:only-of-type {\n",
       "        vertical-align: middle;\n",
       "    }\n",
       "\n",
       "    .dataframe tbody tr th {\n",
       "        vertical-align: top;\n",
       "    }\n",
       "\n",
       "    .dataframe thead th {\n",
       "        text-align: right;\n",
       "    }\n",
       "</style>\n",
       "<table border=\"1\" class=\"dataframe\">\n",
       "  <thead>\n",
       "    <tr style=\"text-align: right;\">\n",
       "      <th></th>\n",
       "      <th>NOME_ATENEO</th>\n",
       "      <th>CONSUNTIVO</th>\n",
       "      <th>iscritti</th>\n",
       "      <th>rapporto</th>\n",
       "    </tr>\n",
       "  </thead>\n",
       "  <tbody>\n",
       "    <tr>\n",
       "      <th>0</th>\n",
       "      <td>Torino - Università degli studi</td>\n",
       "      <td>8.825587e+07</td>\n",
       "      <td>68216.0</td>\n",
       "      <td>1293.770769</td>\n",
       "    </tr>\n",
       "    <tr>\n",
       "      <th>1</th>\n",
       "      <td>Torino - Politecnico</td>\n",
       "      <td>2.862463e+07</td>\n",
       "      <td>28546.8</td>\n",
       "      <td>1002.726255</td>\n",
       "    </tr>\n",
       "    <tr>\n",
       "      <th>2</th>\n",
       "      <td>Vercelli - Università degli studi del Piemonte...</td>\n",
       "      <td>9.896148e+06</td>\n",
       "      <td>10082.4</td>\n",
       "      <td>981.527057</td>\n",
       "    </tr>\n",
       "    <tr>\n",
       "      <th>3</th>\n",
       "      <td>Bra (CN) - Università di Scienze Gastronomiche</td>\n",
       "      <td>3.921876e+06</td>\n",
       "      <td>301.2</td>\n",
       "      <td>13020.837981</td>\n",
       "    </tr>\n",
       "    <tr>\n",
       "      <th>4</th>\n",
       "      <td>Aosta - Università degli studi</td>\n",
       "      <td>9.898892e+05</td>\n",
       "      <td>1148.6</td>\n",
       "      <td>861.822392</td>\n",
       "    </tr>\n",
       "  </tbody>\n",
       "</table>\n",
       "</div>"
      ],
      "text/plain": [
       "                                         NOME_ATENEO    CONSUNTIVO  iscritti  \\\n",
       "0                    Torino - Università degli studi  8.825587e+07   68216.0   \n",
       "1                               Torino - Politecnico  2.862463e+07   28546.8   \n",
       "2  Vercelli - Università degli studi del Piemonte...  9.896148e+06   10082.4   \n",
       "3     Bra (CN) - Università di Scienze Gastronomiche  3.921876e+06     301.2   \n",
       "4                     Aosta - Università degli studi  9.898892e+05    1148.6   \n",
       "\n",
       "       rapporto  \n",
       "0   1293.770769  \n",
       "1   1002.726255  \n",
       "2    981.527057  \n",
       "3  13020.837981  \n",
       "4    861.822392  "
      ]
     },
     "execution_count": 59,
     "metadata": {},
     "output_type": "execute_result"
    }
   ],
   "source": [
    "risultato = pd.merge(atenei_puliti, fuso, left_index = True, right_on = 'COD_ATENEO')\n",
    "del(risultato['COD_Ateneo'])\n",
    "del(risultato['COD_ATENEO'])\n",
    "risultato.head()"
   ]
  },
  {
   "cell_type": "markdown",
   "metadata": {},
   "source": [
    "## Completamento risultati 5\n",
    "\n",
    "Per completare lo studio, andiamo ad identificare gli atenei che hanno rapporto massimo e minimo, oltre a calcolare le statistiche descrittive su `risultato`."
   ]
  },
  {
   "cell_type": "code",
   "execution_count": 60,
   "metadata": {},
   "outputs": [
    {
     "data": {
      "text/plain": [
       "NOME_ATENEO    Bra (CN) - Università di Scienze Gastronomiche\n",
       "CONSUNTIVO                                        3.92188e+06\n",
       "iscritti                                                301.2\n",
       "rapporto                                              13020.8\n",
       "Name: 3, dtype: object"
      ]
     },
     "execution_count": 60,
     "metadata": {},
     "output_type": "execute_result"
    }
   ],
   "source": [
    "risultato.loc[risultato['rapporto'].idxmax()]"
   ]
  },
  {
   "cell_type": "code",
   "execution_count": 61,
   "metadata": {},
   "outputs": [
    {
     "data": {
      "text/plain": [
       "NOME_ATENEO    Lucca - Scuola IMT Alti Studi\n",
       "CONSUNTIVO                                 0\n",
       "iscritti                               109.2\n",
       "rapporto                                   0\n",
       "Name: 38, dtype: object"
      ]
     },
     "execution_count": 61,
     "metadata": {},
     "output_type": "execute_result"
    }
   ],
   "source": [
    "risultato.loc[risultato['rapporto'].idxmin()]"
   ]
  },
  {
   "cell_type": "markdown",
   "metadata": {},
   "source": [
    "## Calcolo statistiche di basi\n",
    "\n",
    "Adesso possiamo iniziare l'esplorazione dei dati, calcolando alcune statistiche basilari."
   ]
  },
  {
   "cell_type": "code",
   "execution_count": 62,
   "metadata": {},
   "outputs": [
    {
     "data": {
      "text/html": [
       "<div>\n",
       "<style scoped>\n",
       "    .dataframe tbody tr th:only-of-type {\n",
       "        vertical-align: middle;\n",
       "    }\n",
       "\n",
       "    .dataframe tbody tr th {\n",
       "        vertical-align: top;\n",
       "    }\n",
       "\n",
       "    .dataframe thead th {\n",
       "        text-align: right;\n",
       "    }\n",
       "</style>\n",
       "<table border=\"1\" class=\"dataframe\">\n",
       "  <thead>\n",
       "    <tr style=\"text-align: right;\">\n",
       "      <th></th>\n",
       "      <th>CONSUNTIVO</th>\n",
       "      <th>iscritti</th>\n",
       "      <th>rapporto</th>\n",
       "    </tr>\n",
       "  </thead>\n",
       "  <tbody>\n",
       "    <tr>\n",
       "      <th>count</th>\n",
       "      <td>9.700000e+01</td>\n",
       "      <td>97.000000</td>\n",
       "      <td>97.000000</td>\n",
       "    </tr>\n",
       "    <tr>\n",
       "      <th>mean</th>\n",
       "      <td>2.513951e+07</td>\n",
       "      <td>19858.642268</td>\n",
       "      <td>1679.972634</td>\n",
       "    </tr>\n",
       "    <tr>\n",
       "      <th>std</th>\n",
       "      <td>3.320958e+07</td>\n",
       "      <td>23424.355577</td>\n",
       "      <td>1977.583727</td>\n",
       "    </tr>\n",
       "    <tr>\n",
       "      <th>min</th>\n",
       "      <td>0.000000e+00</td>\n",
       "      <td>109.200000</td>\n",
       "      <td>0.000000</td>\n",
       "    </tr>\n",
       "    <tr>\n",
       "      <th>25%</th>\n",
       "      <td>5.618214e+06</td>\n",
       "      <td>3138.400000</td>\n",
       "      <td>736.912961</td>\n",
       "    </tr>\n",
       "    <tr>\n",
       "      <th>50%</th>\n",
       "      <td>1.603061e+07</td>\n",
       "      <td>11104.000000</td>\n",
       "      <td>1090.934317</td>\n",
       "    </tr>\n",
       "    <tr>\n",
       "      <th>75%</th>\n",
       "      <td>3.077572e+07</td>\n",
       "      <td>29635.600000</td>\n",
       "      <td>1623.641593</td>\n",
       "    </tr>\n",
       "    <tr>\n",
       "      <th>max</th>\n",
       "      <td>1.809762e+08</td>\n",
       "      <td>136846.600000</td>\n",
       "      <td>13020.837981</td>\n",
       "    </tr>\n",
       "  </tbody>\n",
       "</table>\n",
       "</div>"
      ],
      "text/plain": [
       "         CONSUNTIVO       iscritti      rapporto\n",
       "count  9.700000e+01      97.000000     97.000000\n",
       "mean   2.513951e+07   19858.642268   1679.972634\n",
       "std    3.320958e+07   23424.355577   1977.583727\n",
       "min    0.000000e+00     109.200000      0.000000\n",
       "25%    5.618214e+06    3138.400000    736.912961\n",
       "50%    1.603061e+07   11104.000000   1090.934317\n",
       "75%    3.077572e+07   29635.600000   1623.641593\n",
       "max    1.809762e+08  136846.600000  13020.837981"
      ]
     },
     "execution_count": 62,
     "metadata": {},
     "output_type": "execute_result"
    }
   ],
   "source": [
    "risultato.describe()"
   ]
  }
 ],
 "metadata": {
  "kernelspec": {
   "display_name": "Python 3",
   "language": "python",
   "name": "python3"
  },
  "language_info": {
   "codemirror_mode": {
    "name": "ipython",
    "version": 3
   },
   "file_extension": ".py",
   "mimetype": "text/x-python",
   "name": "python",
   "nbconvert_exporter": "python",
   "pygments_lexer": "ipython3",
   "version": "3.6.7"
  }
 },
 "nbformat": 4,
 "nbformat_minor": 2
}
