{
 "cells": [
  {
   "cell_type": "markdown",
   "metadata": {},
   "source": [
    "# Indice"
   ]
  },
  {
   "cell_type": "code",
   "execution_count": 109,
   "metadata": {},
   "outputs": [],
   "source": [
    "import pandas as pd"
   ]
  },
  {
   "cell_type": "markdown",
   "metadata": {},
   "source": [
    "## Indice\n",
    "\n",
    "Di solito l'indice viene utilizzato per identificare ogni riga di un DataFrame (o Serie), ma in realtà ciò non è garantito (a differenza di una chiave in una tabella).\n",
    "\n",
    "Un indice può essere visto come:\n",
    "*  una lista immutabile;\n",
    "*  un insieme ordinato.\n",
    "\n",
    "Spesso l'indice è formato da una sequenza di numeri interi consecutivi: in questo caso vedremo che l'indice ha tipo `RangeIndex`. Ad esempio, andiamo a vedere l'indice di `nani`:"
   ]
  },
  {
   "cell_type": "code",
   "execution_count": 127,
   "metadata": {},
   "outputs": [
    {
     "data": {
      "text/plain": [
       "RangeIndex(start=0, stop=7, step=1)"
      ]
     },
     "execution_count": 127,
     "metadata": {},
     "output_type": "execute_result"
    }
   ],
   "source": [
    "indice = nani.index\n",
    "indice"
   ]
  },
  {
   "cell_type": "markdown",
   "metadata": {},
   "source": [
    "In generale l'indice è formato da elementi arbitrari. In questo caso vediamo la lista dei valori."
   ]
  },
  {
   "cell_type": "code",
   "execution_count": 128,
   "metadata": {},
   "outputs": [
    {
     "data": {
      "text/plain": [
       "Int64Index([3389, 2081, 1559], dtype='int64')"
      ]
     },
     "execution_count": 128,
     "metadata": {},
     "output_type": "execute_result"
    }
   ],
   "source": [
    "artisti.sample(3).index"
   ]
  },
  {
   "cell_type": "markdown",
   "metadata": {},
   "source": [
    "## Accedere a parti dell'indice\n",
    "\n",
    "Siccome un indice è una lista, è possibile accedere a elementi o porzioni dell'indice usando la notazione usuale delle liste.\n"
   ]
  },
  {
   "cell_type": "code",
   "execution_count": 129,
   "metadata": {},
   "outputs": [
    {
     "data": {
      "text/plain": [
       "3"
      ]
     },
     "execution_count": 129,
     "metadata": {},
     "output_type": "execute_result"
    }
   ],
   "source": [
    "indice[3]"
   ]
  },
  {
   "cell_type": "code",
   "execution_count": 130,
   "metadata": {},
   "outputs": [
    {
     "data": {
      "text/plain": [
       "RangeIndex(start=2, stop=5, step=1)"
      ]
     },
     "execution_count": 130,
     "metadata": {},
     "output_type": "execute_result"
    }
   ],
   "source": [
    "indice[2:5]"
   ]
  },
  {
   "cell_type": "markdown",
   "metadata": {},
   "source": [
    "Ma non è possibile modificare elementi dell'indice (è immutabile)"
   ]
  },
  {
   "cell_type": "code",
   "execution_count": 131,
   "metadata": {},
   "outputs": [
    {
     "ename": "TypeError",
     "evalue": "Index does not support mutable operations",
     "output_type": "error",
     "traceback": [
      "\u001b[0;31m---------------------------------------------------------------------------\u001b[0m",
      "\u001b[0;31mTypeError\u001b[0m                                 Traceback (most recent call last)",
      "\u001b[0;32m<ipython-input-131-36a3b51886e0>\u001b[0m in \u001b[0;36m<module>\u001b[0;34m\u001b[0m\n\u001b[0;32m----> 1\u001b[0;31m \u001b[0mindice\u001b[0m\u001b[0;34m[\u001b[0m\u001b[0;36m4\u001b[0m\u001b[0;34m]\u001b[0m \u001b[0;34m=\u001b[0m \u001b[0;34m'Biancaneve'\u001b[0m\u001b[0;34m\u001b[0m\u001b[0;34m\u001b[0m\u001b[0m\n\u001b[0m",
      "\u001b[0;32m~/.miniconda/lib/python3.6/site-packages/pandas/core/indexes/base.py\u001b[0m in \u001b[0;36m__setitem__\u001b[0;34m(self, key, value)\u001b[0m\n\u001b[1;32m   2063\u001b[0m \u001b[0;34m\u001b[0m\u001b[0m\n\u001b[1;32m   2064\u001b[0m     \u001b[0;32mdef\u001b[0m \u001b[0m__setitem__\u001b[0m\u001b[0;34m(\u001b[0m\u001b[0mself\u001b[0m\u001b[0;34m,\u001b[0m \u001b[0mkey\u001b[0m\u001b[0;34m,\u001b[0m \u001b[0mvalue\u001b[0m\u001b[0;34m)\u001b[0m\u001b[0;34m:\u001b[0m\u001b[0;34m\u001b[0m\u001b[0;34m\u001b[0m\u001b[0m\n\u001b[0;32m-> 2065\u001b[0;31m         \u001b[0;32mraise\u001b[0m \u001b[0mTypeError\u001b[0m\u001b[0;34m(\u001b[0m\u001b[0;34m\"Index does not support mutable operations\"\u001b[0m\u001b[0;34m)\u001b[0m\u001b[0;34m\u001b[0m\u001b[0;34m\u001b[0m\u001b[0m\n\u001b[0m\u001b[1;32m   2066\u001b[0m \u001b[0;34m\u001b[0m\u001b[0m\n\u001b[1;32m   2067\u001b[0m     \u001b[0;32mdef\u001b[0m \u001b[0m__getitem__\u001b[0m\u001b[0;34m(\u001b[0m\u001b[0mself\u001b[0m\u001b[0;34m,\u001b[0m \u001b[0mkey\u001b[0m\u001b[0;34m)\u001b[0m\u001b[0;34m:\u001b[0m\u001b[0;34m\u001b[0m\u001b[0;34m\u001b[0m\u001b[0m\n",
      "\u001b[0;31mTypeError\u001b[0m: Index does not support mutable operations"
     ]
    }
   ],
   "source": [
    "indice[4] = 'Biancaneve'"
   ]
  },
  {
   "cell_type": "markdown",
   "metadata": {},
   "source": [
    "## Estrarre righe da un DataFrame: da un indice\n",
    "\n",
    "E' possibile estrarre righe sfruttando:\n",
    "1.  l'indice implicito (non ha un nome) con la `iloc` (la *i* significa *implicito*)\n",
    "2.  l'indice esplicito con la `loc`\n",
    "\n",
    "Vediamo adesso più in dettaglio il concetto di indice *implicito*. Un DataFrame può essere visto come una lista di righe. In questo caso l'indice implicito è esattamente l'indice di questa lista: inizia con 0 e termina con il numero di righe meno 1.\n",
    "\n",
    "Siccome il DataFrame viene visto come una lista, posso accedere a elementi o insiemi di righe usando le espressioni tipiche delle liste, però usando il metodo `iloc`."
   ]
  },
  {
   "cell_type": "code",
   "execution_count": 132,
   "metadata": {},
   "outputs": [
    {
     "data": {
      "text/plain": [
       "id                               10093\n",
       "name            Abakanowicz, Magdalena\n",
       "gender                          Female\n",
       "dates                        born 1930\n",
       "yearOfBirth                       1930\n",
       "yearOfDeath                        NaN\n",
       "placeOfBirth                    Polska\n",
       "placeOfDeath                       NaN\n",
       "Name: 0, dtype: object"
      ]
     },
     "execution_count": 132,
     "metadata": {},
     "output_type": "execute_result"
    }
   ],
   "source": [
    "artisti.iloc[0]"
   ]
  },
  {
   "cell_type": "code",
   "execution_count": 133,
   "metadata": {},
   "outputs": [
    {
     "data": {
      "text/html": [
       "<div>\n",
       "<style scoped>\n",
       "    .dataframe tbody tr th:only-of-type {\n",
       "        vertical-align: middle;\n",
       "    }\n",
       "\n",
       "    .dataframe tbody tr th {\n",
       "        vertical-align: top;\n",
       "    }\n",
       "\n",
       "    .dataframe thead th {\n",
       "        text-align: right;\n",
       "    }\n",
       "</style>\n",
       "<table border=\"1\" class=\"dataframe\">\n",
       "  <thead>\n",
       "    <tr style=\"text-align: right;\">\n",
       "      <th></th>\n",
       "      <th>id</th>\n",
       "      <th>name</th>\n",
       "      <th>gender</th>\n",
       "      <th>dates</th>\n",
       "      <th>yearOfBirth</th>\n",
       "      <th>yearOfDeath</th>\n",
       "      <th>placeOfBirth</th>\n",
       "      <th>placeOfDeath</th>\n",
       "    </tr>\n",
       "  </thead>\n",
       "  <tbody>\n",
       "    <tr>\n",
       "      <th>3</th>\n",
       "      <td>1</td>\n",
       "      <td>Abbott, Lemuel Francis</td>\n",
       "      <td>Male</td>\n",
       "      <td>1760–1803</td>\n",
       "      <td>1760.0</td>\n",
       "      <td>1803.0</td>\n",
       "      <td>Leicestershire, United Kingdom</td>\n",
       "      <td>London, United Kingdom</td>\n",
       "    </tr>\n",
       "    <tr>\n",
       "      <th>4</th>\n",
       "      <td>622</td>\n",
       "      <td>Abrahams, Ivor</td>\n",
       "      <td>Male</td>\n",
       "      <td>born 1935</td>\n",
       "      <td>1935.0</td>\n",
       "      <td>NaN</td>\n",
       "      <td>Wigan, United Kingdom</td>\n",
       "      <td>NaN</td>\n",
       "    </tr>\n",
       "  </tbody>\n",
       "</table>\n",
       "</div>"
      ],
      "text/plain": [
       "    id                    name gender      dates  yearOfBirth  yearOfDeath  \\\n",
       "3    1  Abbott, Lemuel Francis   Male  1760–1803       1760.0       1803.0   \n",
       "4  622          Abrahams, Ivor   Male  born 1935       1935.0          NaN   \n",
       "\n",
       "                     placeOfBirth            placeOfDeath  \n",
       "3  Leicestershire, United Kingdom  London, United Kingdom  \n",
       "4           Wigan, United Kingdom                     NaN  "
      ]
     },
     "execution_count": 133,
     "metadata": {},
     "output_type": "execute_result"
    }
   ],
   "source": [
    "artisti.iloc[3:5]"
   ]
  },
  {
   "cell_type": "markdown",
   "metadata": {},
   "source": [
    "Notare che, esattamente come nelle liste, quando si estrae una slice l'ultimo elemento indicato è escluso dal risultato."
   ]
  },
  {
   "cell_type": "markdown",
   "metadata": {},
   "source": [
    "## Indice esplicito\n",
    "\n",
    "L'indice *esplicito* è invece quello corrispondente al metodo `index`. In questo modo, usando il metodo `loc` è possibile estrarre:\n",
    "*  una singola riga\n",
    "*  un insieme di righe (l'insieme viene specificato con una lista"
   ]
  },
  {
   "cell_type": "code",
   "execution_count": 134,
   "metadata": {},
   "outputs": [
    {
     "data": {
      "text/plain": [
       "id                           9550\n",
       "name                  Abts, Tomma\n",
       "gender                     Female\n",
       "dates                   born 1967\n",
       "yearOfBirth                  1967\n",
       "yearOfDeath                   NaN\n",
       "placeOfBirth    Kiel, Deutschland\n",
       "placeOfDeath                  NaN\n",
       "Name: 6, dtype: object"
      ]
     },
     "execution_count": 134,
     "metadata": {},
     "output_type": "execute_result"
    }
   ],
   "source": [
    "artisti.loc[6]"
   ]
  },
  {
   "cell_type": "code",
   "execution_count": 135,
   "metadata": {},
   "outputs": [
    {
     "data": {
      "text/html": [
       "<div>\n",
       "<style scoped>\n",
       "    .dataframe tbody tr th:only-of-type {\n",
       "        vertical-align: middle;\n",
       "    }\n",
       "\n",
       "    .dataframe tbody tr th {\n",
       "        vertical-align: top;\n",
       "    }\n",
       "\n",
       "    .dataframe thead th {\n",
       "        text-align: right;\n",
       "    }\n",
       "</style>\n",
       "<table border=\"1\" class=\"dataframe\">\n",
       "  <thead>\n",
       "    <tr style=\"text-align: right;\">\n",
       "      <th></th>\n",
       "      <th>id</th>\n",
       "      <th>name</th>\n",
       "      <th>gender</th>\n",
       "      <th>dates</th>\n",
       "      <th>yearOfBirth</th>\n",
       "      <th>yearOfDeath</th>\n",
       "      <th>placeOfBirth</th>\n",
       "      <th>placeOfDeath</th>\n",
       "    </tr>\n",
       "  </thead>\n",
       "  <tbody>\n",
       "    <tr>\n",
       "      <th>3</th>\n",
       "      <td>1</td>\n",
       "      <td>Abbott, Lemuel Francis</td>\n",
       "      <td>Male</td>\n",
       "      <td>1760–1803</td>\n",
       "      <td>1760.0</td>\n",
       "      <td>1803.0</td>\n",
       "      <td>Leicestershire, United Kingdom</td>\n",
       "      <td>London, United Kingdom</td>\n",
       "    </tr>\n",
       "    <tr>\n",
       "      <th>4</th>\n",
       "      <td>622</td>\n",
       "      <td>Abrahams, Ivor</td>\n",
       "      <td>Male</td>\n",
       "      <td>born 1935</td>\n",
       "      <td>1935.0</td>\n",
       "      <td>NaN</td>\n",
       "      <td>Wigan, United Kingdom</td>\n",
       "      <td>NaN</td>\n",
       "    </tr>\n",
       "    <tr>\n",
       "      <th>5</th>\n",
       "      <td>2606</td>\n",
       "      <td>Absalon</td>\n",
       "      <td>Male</td>\n",
       "      <td>1964–1993</td>\n",
       "      <td>1964.0</td>\n",
       "      <td>1993.0</td>\n",
       "      <td>Tel Aviv-Yafo, Yisra'el</td>\n",
       "      <td>Paris, France</td>\n",
       "    </tr>\n",
       "  </tbody>\n",
       "</table>\n",
       "</div>"
      ],
      "text/plain": [
       "     id                    name gender      dates  yearOfBirth  yearOfDeath  \\\n",
       "3     1  Abbott, Lemuel Francis   Male  1760–1803       1760.0       1803.0   \n",
       "4   622          Abrahams, Ivor   Male  born 1935       1935.0          NaN   \n",
       "5  2606                 Absalon   Male  1964–1993       1964.0       1993.0   \n",
       "\n",
       "                     placeOfBirth            placeOfDeath  \n",
       "3  Leicestershire, United Kingdom  London, United Kingdom  \n",
       "4           Wigan, United Kingdom                     NaN  \n",
       "5         Tel Aviv-Yafo, Yisra'el           Paris, France  "
      ]
     },
     "execution_count": 135,
     "metadata": {},
     "output_type": "execute_result"
    }
   ],
   "source": [
    "artisti.loc[[3, 4, 5]]"
   ]
  },
  {
   "cell_type": "markdown",
   "metadata": {},
   "source": [
    "Notare che l'ultima `loc` presenta due coppie di parentesi quadre: la coppia esterna è dovuta al fatto che `loc` vuole gli argomenti fra parentesi quadre (è un indizio mnemonico per ricordare che accedo ad una parte dei dati), mentre la coppia interna è la sintassi che specifica che si tratta di una lista."
   ]
  },
  {
   "cell_type": "markdown",
   "metadata": {},
   "source": [
    "## Indice esplicito: slice\n",
    "\n",
    "Quando accediamo a porzioni di liste, una delle modalità più frequenti è lo slice: in questo caso specifichiamo una porzione di DataFrame identificata dal suo inizio e dalla sua fine.\n",
    "\n",
    "L'utilizzo di uno slice con la `loc` ha due particolarità:\n",
    "1.  Per usare la `loc` con uno slice, è necessario prima ordinare il DataFrame rispetto all'indice, con la `sort_index` (eventualmente con `inplace = True` se non desideriamo creare un nuovo DataFrame);\n",
    "2.  il risultato includerà *entrambi* gli estremi indicati nello slice (mentre con l'indice implicito, il risultato di uno slice non include l'estremo finale)."
   ]
  },
  {
   "cell_type": "code",
   "execution_count": 136,
   "metadata": {},
   "outputs": [],
   "source": [
    "artisti.sort_index(inplace = True)"
   ]
  },
  {
   "cell_type": "code",
   "execution_count": 137,
   "metadata": {},
   "outputs": [
    {
     "data": {
      "text/html": [
       "<div>\n",
       "<style scoped>\n",
       "    .dataframe tbody tr th:only-of-type {\n",
       "        vertical-align: middle;\n",
       "    }\n",
       "\n",
       "    .dataframe tbody tr th {\n",
       "        vertical-align: top;\n",
       "    }\n",
       "\n",
       "    .dataframe thead th {\n",
       "        text-align: right;\n",
       "    }\n",
       "</style>\n",
       "<table border=\"1\" class=\"dataframe\">\n",
       "  <thead>\n",
       "    <tr style=\"text-align: right;\">\n",
       "      <th></th>\n",
       "      <th>id</th>\n",
       "      <th>name</th>\n",
       "      <th>gender</th>\n",
       "      <th>dates</th>\n",
       "      <th>yearOfBirth</th>\n",
       "      <th>yearOfDeath</th>\n",
       "      <th>placeOfBirth</th>\n",
       "      <th>placeOfDeath</th>\n",
       "    </tr>\n",
       "  </thead>\n",
       "  <tbody>\n",
       "    <tr>\n",
       "      <th>3</th>\n",
       "      <td>1</td>\n",
       "      <td>Abbott, Lemuel Francis</td>\n",
       "      <td>Male</td>\n",
       "      <td>1760–1803</td>\n",
       "      <td>1760.0</td>\n",
       "      <td>1803.0</td>\n",
       "      <td>Leicestershire, United Kingdom</td>\n",
       "      <td>London, United Kingdom</td>\n",
       "    </tr>\n",
       "    <tr>\n",
       "      <th>4</th>\n",
       "      <td>622</td>\n",
       "      <td>Abrahams, Ivor</td>\n",
       "      <td>Male</td>\n",
       "      <td>born 1935</td>\n",
       "      <td>1935.0</td>\n",
       "      <td>NaN</td>\n",
       "      <td>Wigan, United Kingdom</td>\n",
       "      <td>NaN</td>\n",
       "    </tr>\n",
       "    <tr>\n",
       "      <th>5</th>\n",
       "      <td>2606</td>\n",
       "      <td>Absalon</td>\n",
       "      <td>Male</td>\n",
       "      <td>1964–1993</td>\n",
       "      <td>1964.0</td>\n",
       "      <td>1993.0</td>\n",
       "      <td>Tel Aviv-Yafo, Yisra'el</td>\n",
       "      <td>Paris, France</td>\n",
       "    </tr>\n",
       "  </tbody>\n",
       "</table>\n",
       "</div>"
      ],
      "text/plain": [
       "     id                    name gender      dates  yearOfBirth  yearOfDeath  \\\n",
       "3     1  Abbott, Lemuel Francis   Male  1760–1803       1760.0       1803.0   \n",
       "4   622          Abrahams, Ivor   Male  born 1935       1935.0          NaN   \n",
       "5  2606                 Absalon   Male  1964–1993       1964.0       1993.0   \n",
       "\n",
       "                     placeOfBirth            placeOfDeath  \n",
       "3  Leicestershire, United Kingdom  London, United Kingdom  \n",
       "4           Wigan, United Kingdom                     NaN  \n",
       "5         Tel Aviv-Yafo, Yisra'el           Paris, France  "
      ]
     },
     "execution_count": 137,
     "metadata": {},
     "output_type": "execute_result"
    }
   ],
   "source": [
    "artisti.loc[3:5]"
   ]
  },
  {
   "cell_type": "markdown",
   "metadata": {},
   "source": [
    "Possiamo verificare immediatamente che il risultato della `loc` include la riga con indice 5."
   ]
  },
  {
   "cell_type": "markdown",
   "metadata": {},
   "source": [
    "## Determinare l'indice del DataFrame\n",
    "\n",
    "Talvolta abbiamo un DataFrame in cui una colonna è adatta ad essere un indice esplicito migliore di quello di default (l'indice implicito, formato da una sequenza di numeri a partire da 0).\n",
    "\n",
    "Per trasformare una colonna in indice è necessario assegnare il risultato di `set_index` ad un nuovo DataFrame.\n",
    "Notare che anche questa operazione crea un nuovo DataFrame."
   ]
  },
  {
   "cell_type": "code",
   "execution_count": 138,
   "metadata": {},
   "outputs": [
    {
     "data": {
      "text/html": [
       "<div>\n",
       "<style scoped>\n",
       "    .dataframe tbody tr th:only-of-type {\n",
       "        vertical-align: middle;\n",
       "    }\n",
       "\n",
       "    .dataframe tbody tr th {\n",
       "        vertical-align: top;\n",
       "    }\n",
       "\n",
       "    .dataframe thead th {\n",
       "        text-align: right;\n",
       "    }\n",
       "</style>\n",
       "<table border=\"1\" class=\"dataframe\">\n",
       "  <thead>\n",
       "    <tr style=\"text-align: right;\">\n",
       "      <th></th>\n",
       "      <th>name</th>\n",
       "      <th>gender</th>\n",
       "      <th>dates</th>\n",
       "      <th>yearOfBirth</th>\n",
       "      <th>yearOfDeath</th>\n",
       "      <th>placeOfBirth</th>\n",
       "      <th>placeOfDeath</th>\n",
       "    </tr>\n",
       "    <tr>\n",
       "      <th>id</th>\n",
       "      <th></th>\n",
       "      <th></th>\n",
       "      <th></th>\n",
       "      <th></th>\n",
       "      <th></th>\n",
       "      <th></th>\n",
       "      <th></th>\n",
       "    </tr>\n",
       "  </thead>\n",
       "  <tbody>\n",
       "    <tr>\n",
       "      <th>10093</th>\n",
       "      <td>Abakanowicz, Magdalena</td>\n",
       "      <td>Female</td>\n",
       "      <td>born 1930</td>\n",
       "      <td>1930.0</td>\n",
       "      <td>NaN</td>\n",
       "      <td>Polska</td>\n",
       "      <td>NaN</td>\n",
       "    </tr>\n",
       "    <tr>\n",
       "      <th>0</th>\n",
       "      <td>Abbey, Edwin Austin</td>\n",
       "      <td>Male</td>\n",
       "      <td>1852–1911</td>\n",
       "      <td>1852.0</td>\n",
       "      <td>1911.0</td>\n",
       "      <td>Philadelphia, United States</td>\n",
       "      <td>London, United Kingdom</td>\n",
       "    </tr>\n",
       "    <tr>\n",
       "      <th>2756</th>\n",
       "      <td>Abbott, Berenice</td>\n",
       "      <td>Female</td>\n",
       "      <td>1898–1991</td>\n",
       "      <td>1898.0</td>\n",
       "      <td>1991.0</td>\n",
       "      <td>Springfield, United States</td>\n",
       "      <td>Monson, United States</td>\n",
       "    </tr>\n",
       "  </tbody>\n",
       "</table>\n",
       "</div>"
      ],
      "text/plain": [
       "                         name  gender      dates  yearOfBirth  yearOfDeath  \\\n",
       "id                                                                           \n",
       "10093  Abakanowicz, Magdalena  Female  born 1930       1930.0          NaN   \n",
       "0         Abbey, Edwin Austin    Male  1852–1911       1852.0       1911.0   \n",
       "2756         Abbott, Berenice  Female  1898–1991       1898.0       1991.0   \n",
       "\n",
       "                      placeOfBirth            placeOfDeath  \n",
       "id                                                          \n",
       "10093                       Polska                     NaN  \n",
       "0      Philadelphia, United States  London, United Kingdom  \n",
       "2756    Springfield, United States   Monson, United States  "
      ]
     },
     "execution_count": 138,
     "metadata": {},
     "output_type": "execute_result"
    }
   ],
   "source": [
    "artisti = artisti.set_index(\"id\")\n",
    "artisti.head(3)"
   ]
  },
  {
   "cell_type": "markdown",
   "metadata": {},
   "source": [
    "## Decidere l'indice durante la lettura\n",
    "\n",
    "Leggendo il DataFrame con `read_csv` o `read_json` è possibile selezionare una colonna come indice, utilizzando l'opzione `index_col`."
   ]
  },
  {
   "cell_type": "code",
   "execution_count": 139,
   "metadata": {},
   "outputs": [],
   "source": [
    "artisti2 = pd.read_csv(\"https://github.com/tategallery/collection/raw/master/artist_data.csv\",\n",
    "                      index_col = \"id\")"
   ]
  },
  {
   "cell_type": "code",
   "execution_count": 140,
   "metadata": {},
   "outputs": [
    {
     "data": {
      "text/html": [
       "<div>\n",
       "<style scoped>\n",
       "    .dataframe tbody tr th:only-of-type {\n",
       "        vertical-align: middle;\n",
       "    }\n",
       "\n",
       "    .dataframe tbody tr th {\n",
       "        vertical-align: top;\n",
       "    }\n",
       "\n",
       "    .dataframe thead th {\n",
       "        text-align: right;\n",
       "    }\n",
       "</style>\n",
       "<table border=\"1\" class=\"dataframe\">\n",
       "  <thead>\n",
       "    <tr style=\"text-align: right;\">\n",
       "      <th></th>\n",
       "      <th>name</th>\n",
       "      <th>gender</th>\n",
       "      <th>dates</th>\n",
       "      <th>yearOfBirth</th>\n",
       "      <th>yearOfDeath</th>\n",
       "      <th>placeOfBirth</th>\n",
       "      <th>placeOfDeath</th>\n",
       "    </tr>\n",
       "    <tr>\n",
       "      <th>id</th>\n",
       "      <th></th>\n",
       "      <th></th>\n",
       "      <th></th>\n",
       "      <th></th>\n",
       "      <th></th>\n",
       "      <th></th>\n",
       "      <th></th>\n",
       "    </tr>\n",
       "  </thead>\n",
       "  <tbody>\n",
       "    <tr>\n",
       "      <th>10093</th>\n",
       "      <td>Abakanowicz, Magdalena</td>\n",
       "      <td>Female</td>\n",
       "      <td>born 1930</td>\n",
       "      <td>1930.0</td>\n",
       "      <td>NaN</td>\n",
       "      <td>Polska</td>\n",
       "      <td>NaN</td>\n",
       "    </tr>\n",
       "    <tr>\n",
       "      <th>0</th>\n",
       "      <td>Abbey, Edwin Austin</td>\n",
       "      <td>Male</td>\n",
       "      <td>1852–1911</td>\n",
       "      <td>1852.0</td>\n",
       "      <td>1911.0</td>\n",
       "      <td>Philadelphia, United States</td>\n",
       "      <td>London, United Kingdom</td>\n",
       "    </tr>\n",
       "    <tr>\n",
       "      <th>2756</th>\n",
       "      <td>Abbott, Berenice</td>\n",
       "      <td>Female</td>\n",
       "      <td>1898–1991</td>\n",
       "      <td>1898.0</td>\n",
       "      <td>1991.0</td>\n",
       "      <td>Springfield, United States</td>\n",
       "      <td>Monson, United States</td>\n",
       "    </tr>\n",
       "  </tbody>\n",
       "</table>\n",
       "</div>"
      ],
      "text/plain": [
       "                         name  gender      dates  yearOfBirth  yearOfDeath  \\\n",
       "id                                                                           \n",
       "10093  Abakanowicz, Magdalena  Female  born 1930       1930.0          NaN   \n",
       "0         Abbey, Edwin Austin    Male  1852–1911       1852.0       1911.0   \n",
       "2756         Abbott, Berenice  Female  1898–1991       1898.0       1991.0   \n",
       "\n",
       "                      placeOfBirth            placeOfDeath  \n",
       "id                                                          \n",
       "10093                       Polska                     NaN  \n",
       "0      Philadelphia, United States  London, United Kingdom  \n",
       "2756    Springfield, United States   Monson, United States  "
      ]
     },
     "execution_count": 140,
     "metadata": {},
     "output_type": "execute_result"
    }
   ],
   "source": [
    "artisti.head(3)"
   ]
  },
  {
   "cell_type": "markdown",
   "metadata": {},
   "source": [
    "Bisogna però capire se è più utile avere una variabile identificativa oppure un indice:\n",
    "\n",
    "*  l'indice permette un accesso veloce alle righe, soprattutto tramite uno slice\n",
    "*  alcune funzionalità (ad esempio la `groupby` che vedremo più avanti) sono possibili solo con le colonne."
   ]
  },
  {
   "cell_type": "markdown",
   "metadata": {},
   "source": [
    "## Resettare l'indice\n",
    "\n",
    "Per alcune operazioni, diventa utile trasformare l'indice in una colonna, ottenendo un nuovo DataFrame.\n",
    "Notare che il risultato di questa operazione è sempre un DataFrame, anche a partire da una Serie.\n",
    "\n",
    "L'istruzione necessaria è `reset_index`"
   ]
  },
  {
   "cell_type": "code",
   "execution_count": 141,
   "metadata": {},
   "outputs": [
    {
     "data": {
      "text/html": [
       "<div>\n",
       "<style scoped>\n",
       "    .dataframe tbody tr th:only-of-type {\n",
       "        vertical-align: middle;\n",
       "    }\n",
       "\n",
       "    .dataframe tbody tr th {\n",
       "        vertical-align: top;\n",
       "    }\n",
       "\n",
       "    .dataframe thead th {\n",
       "        text-align: right;\n",
       "    }\n",
       "</style>\n",
       "<table border=\"1\" class=\"dataframe\">\n",
       "  <thead>\n",
       "    <tr style=\"text-align: right;\">\n",
       "      <th></th>\n",
       "      <th>id</th>\n",
       "      <th>name</th>\n",
       "      <th>gender</th>\n",
       "      <th>dates</th>\n",
       "      <th>yearOfBirth</th>\n",
       "      <th>yearOfDeath</th>\n",
       "      <th>placeOfBirth</th>\n",
       "      <th>placeOfDeath</th>\n",
       "    </tr>\n",
       "  </thead>\n",
       "  <tbody>\n",
       "    <tr>\n",
       "      <th>0</th>\n",
       "      <td>10093</td>\n",
       "      <td>Abakanowicz, Magdalena</td>\n",
       "      <td>Female</td>\n",
       "      <td>born 1930</td>\n",
       "      <td>1930.0</td>\n",
       "      <td>NaN</td>\n",
       "      <td>Polska</td>\n",
       "      <td>NaN</td>\n",
       "    </tr>\n",
       "    <tr>\n",
       "      <th>1</th>\n",
       "      <td>0</td>\n",
       "      <td>Abbey, Edwin Austin</td>\n",
       "      <td>Male</td>\n",
       "      <td>1852–1911</td>\n",
       "      <td>1852.0</td>\n",
       "      <td>1911.0</td>\n",
       "      <td>Philadelphia, United States</td>\n",
       "      <td>London, United Kingdom</td>\n",
       "    </tr>\n",
       "    <tr>\n",
       "      <th>2</th>\n",
       "      <td>2756</td>\n",
       "      <td>Abbott, Berenice</td>\n",
       "      <td>Female</td>\n",
       "      <td>1898–1991</td>\n",
       "      <td>1898.0</td>\n",
       "      <td>1991.0</td>\n",
       "      <td>Springfield, United States</td>\n",
       "      <td>Monson, United States</td>\n",
       "    </tr>\n",
       "    <tr>\n",
       "      <th>3</th>\n",
       "      <td>1</td>\n",
       "      <td>Abbott, Lemuel Francis</td>\n",
       "      <td>Male</td>\n",
       "      <td>1760–1803</td>\n",
       "      <td>1760.0</td>\n",
       "      <td>1803.0</td>\n",
       "      <td>Leicestershire, United Kingdom</td>\n",
       "      <td>London, United Kingdom</td>\n",
       "    </tr>\n",
       "    <tr>\n",
       "      <th>4</th>\n",
       "      <td>622</td>\n",
       "      <td>Abrahams, Ivor</td>\n",
       "      <td>Male</td>\n",
       "      <td>born 1935</td>\n",
       "      <td>1935.0</td>\n",
       "      <td>NaN</td>\n",
       "      <td>Wigan, United Kingdom</td>\n",
       "      <td>NaN</td>\n",
       "    </tr>\n",
       "    <tr>\n",
       "      <th>5</th>\n",
       "      <td>2606</td>\n",
       "      <td>Absalon</td>\n",
       "      <td>Male</td>\n",
       "      <td>1964–1993</td>\n",
       "      <td>1964.0</td>\n",
       "      <td>1993.0</td>\n",
       "      <td>Tel Aviv-Yafo, Yisra'el</td>\n",
       "      <td>Paris, France</td>\n",
       "    </tr>\n",
       "  </tbody>\n",
       "</table>\n",
       "</div>"
      ],
      "text/plain": [
       "      id                    name  gender      dates  yearOfBirth  yearOfDeath  \\\n",
       "0  10093  Abakanowicz, Magdalena  Female  born 1930       1930.0          NaN   \n",
       "1      0     Abbey, Edwin Austin    Male  1852–1911       1852.0       1911.0   \n",
       "2   2756        Abbott, Berenice  Female  1898–1991       1898.0       1991.0   \n",
       "3      1  Abbott, Lemuel Francis    Male  1760–1803       1760.0       1803.0   \n",
       "4    622          Abrahams, Ivor    Male  born 1935       1935.0          NaN   \n",
       "5   2606                 Absalon    Male  1964–1993       1964.0       1993.0   \n",
       "\n",
       "                     placeOfBirth            placeOfDeath  \n",
       "0                          Polska                     NaN  \n",
       "1     Philadelphia, United States  London, United Kingdom  \n",
       "2      Springfield, United States   Monson, United States  \n",
       "3  Leicestershire, United Kingdom  London, United Kingdom  \n",
       "4           Wigan, United Kingdom                     NaN  \n",
       "5         Tel Aviv-Yafo, Yisra'el           Paris, France  "
      ]
     },
     "execution_count": 141,
     "metadata": {},
     "output_type": "execute_result"
    }
   ],
   "source": [
    "artisti3 = artisti.reset_index()\n",
    "artisti3.head(6)"
   ]
  }
 ],
 "metadata": {
  "kernelspec": {
   "display_name": "Python 3",
   "language": "python",
   "name": "python3"
  },
  "language_info": {
   "codemirror_mode": {
    "name": "ipython",
    "version": 3
   },
   "file_extension": ".py",
   "mimetype": "text/x-python",
   "name": "python",
   "nbconvert_exporter": "python",
   "pygments_lexer": "ipython3",
   "version": "3.6.7"
  }
 },
 "nbformat": 4,
 "nbformat_minor": 2
}
