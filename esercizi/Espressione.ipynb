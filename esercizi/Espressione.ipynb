{
 "cells": [
  {
   "cell_type": "markdown",
   "metadata": {},
   "source": [
    "### LEZIONE 1 - ESERCIZIO ? - ??\n",
    "\n",
    "[testo]"
   ]
  },
  {
   "cell_type": "code",
   "execution_count": 4,
   "metadata": {},
   "outputs": [
    {
     "name": "stdout",
     "output_type": "stream",
     "text": [
      "Inserire a: 10\n",
      "Inserire b: 20\n",
      "Inserire c: 30\n",
      "a + b * (4 * c + 7.0) =  2550.0\n",
      "a + ( b * 4 * c + 7.0) =  2417.0\n",
      "(a + b) * 4 * c + 7.0 =  3607.0\n",
      "a + ( (b * 4) * (c  + 7.0) ) = 2970.0\n",
      "(a + b * 4 * c + 7.0) = 2417.0\n"
     ]
    }
   ],
   "source": [
    "a = input('Inserire a: ')\n",
    "b = input('Inserire b: ')\n",
    "c = input('Inserire c: ')\n",
    "\n",
    "a = int(a)\n",
    "b = int(b)\n",
    "c = int(c)\n",
    "\n",
    "e1 = a + b * (4 * c + 7.0)\n",
    "e2 = a + (b * 4 * c + 7.0)\n",
    "e3 = (a + b) * 4 * c + 7.0\n",
    "e4 = a + ((b * 4) * (c + 7.0))\n",
    "e5 = (a + b * 4 * c + 7.0)\n",
    "\n",
    "print(f\"a + b * (4 * c + 7.0) =  {e1}\")\n",
    "print(f\"a + ( b * 4 * c + 7.0) =  {e2}\")\n",
    "print(f\"(a + b) * 4 * c + 7.0 =  {e3}\")\n",
    "print(f\"a + ( (b * 4) * (c  + 7.0) ) = {e4}\")\n",
    "print(f\"(a + b * 4 * c + 7.0) = {e5}\")"
   ]
  },
  {
   "cell_type": "code",
   "execution_count": null,
   "metadata": {},
   "outputs": [],
   "source": []
  },
  {
   "cell_type": "code",
   "execution_count": null,
   "metadata": {},
   "outputs": [],
   "source": []
  }
 ],
 "metadata": {
  "kernelspec": {
   "display_name": "Python 3",
   "language": "python",
   "name": "python3"
  },
  "language_info": {
   "codemirror_mode": {
    "name": "ipython",
    "version": 3
   },
   "file_extension": ".py",
   "mimetype": "text/x-python",
   "name": "python",
   "nbconvert_exporter": "python",
   "pygments_lexer": "ipython3",
   "version": "3.7.1"
  }
 },
 "nbformat": 4,
 "nbformat_minor": 2
}
