{
 "cells": [
  {
   "cell_type": "markdown",
   "metadata": {},
   "source": [
    "### LEZIONE 1 - ESERCIZIO ? - Calcolo dell'ipotenusa di un triangolo rettangolo\n",
    "\n",
    "Dati i cateti di un triangolo rettangolo inseriti dall'utente come valori interi, calcolare l'ipotenusa"
   ]
  },
  {
   "cell_type": "code",
   "execution_count": 4,
   "metadata": {},
   "outputs": [
    {
     "name": "stdout",
     "output_type": "stream",
     "text": [
      "Inserire a: 10\n",
      "Inserire b: 20\n",
      "Inserire c: 30\n",
      "a + b * (4 * c + 7.0) =  2550.0\n",
      "a + ( b * 4 * c + 7.0) =  2417.0\n",
      "(a + b) * 4 * c + 7.0 =  3607.0\n",
      "a + ( (b * 4) * (c  + 7.0) ) = 2970.0\n",
      "(a + b * 4 * c + 7.0) = 2417.0\n"
     ]
    }
   ],
   "source": [
    "c1 = input('Inserisci il primo cateto: ')\n",
    "c2 = input('Inserisci il secondo cateto: ')\n",
    "\n",
    "c1 = int(c1)\n",
    "c2 = int(c2)\n",
    "\n",
    "ipotenusa = (c1**2 + c2**2)**0.5\n",
    "print(ipotenusa)"
   ]
  },
  {
   "cell_type": "code",
   "execution_count": null,
   "metadata": {},
   "outputs": [],
   "source": []
  },
  {
   "cell_type": "code",
   "execution_count": null,
   "metadata": {},
   "outputs": [],
   "source": []
  }
 ],
 "metadata": {
  "kernelspec": {
   "display_name": "Python 3",
   "language": "python",
   "name": "python3"
  },
  "language_info": {
   "codemirror_mode": {
    "name": "ipython",
    "version": 3
   },
   "file_extension": ".py",
   "mimetype": "text/x-python",
   "name": "python",
   "nbconvert_exporter": "python",
   "pygments_lexer": "ipython3",
   "version": "3.7.1"
  }
 },
 "nbformat": 4,
 "nbformat_minor": 2
}
