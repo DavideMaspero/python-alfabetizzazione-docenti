{
 "cells": [
  {
   "cell_type": "markdown",
   "metadata": {},
   "source": [
    "### LEZIONE 1 - ESERCIZIO 1 - Divisione tra due interi\n",
    "\n",
    "Dati due interi `a` e `b` produrre:\n",
    "\n",
    "- il risultato della divisione tra `a` e `b`\n",
    "- il risultato e il resto della divisione intera tra `a` e `b`\n",
    "- il risultato del prodotto tra `b` e il risultato della divisione\n",
    "- il risultato della somma del prodotto tra `b` e il risultato della divisione intera più il resto della divisione intera"
   ]
  },
  {
   "cell_type": "code",
   "execution_count": 1,
   "metadata": {},
   "outputs": [
    {
     "name": "stdout",
     "output_type": "stream",
     "text": [
      "a = 257, b = 11\n",
      "a / b = 23.363636363636363\n",
      "a // b = 23 con resto 4\n",
      "b * a / b = a = 257.0\n",
      "b * a // b + resto = a = 257\n"
     ]
    }
   ],
   "source": [
    "a = 257\n",
    "b = 11\n",
    "\n",
    "quoziente = a / b\n",
    "quoziente_intero = a // b\n",
    "resto_divisione_intera = a % b\n",
    "prodotto = b * quoziente\n",
    "\n",
    "print(f\"a = {a}, b = {b}\")\n",
    "print(f\"a / b = {quoziente}\")\n",
    "print(f\"a // b = {quoziente_intero} con resto {resto_divisione_intera}\")\n",
    "print(f\"b * a / b = a = {prodotto}\")\n",
    "print(f\"b * a // b + resto = a = {b*quoziente_intero + resto_divisione_intera}\")"
   ]
  },
  {
   "cell_type": "code",
   "execution_count": null,
   "metadata": {},
   "outputs": [],
   "source": []
  },
  {
   "cell_type": "code",
   "execution_count": null,
   "metadata": {},
   "outputs": [],
   "source": []
  }
 ],
 "metadata": {
  "kernelspec": {
   "display_name": "Python 3",
   "language": "python",
   "name": "python3"
  },
  "language_info": {
   "codemirror_mode": {
    "name": "ipython",
    "version": 3
   },
   "file_extension": ".py",
   "mimetype": "text/x-python",
   "name": "python",
   "nbconvert_exporter": "python",
   "pygments_lexer": "ipython3",
   "version": "3.7.1"
  }
 },
 "nbformat": 4,
 "nbformat_minor": 2
}
