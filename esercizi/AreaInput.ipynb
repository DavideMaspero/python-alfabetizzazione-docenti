{
 "cells": [
  {
   "cell_type": "markdown",
   "metadata": {},
   "source": [
    "### LEZIONE 1 - ESERCIZIO ? - Area di un rettangolo (versione 2)\n",
    "\n",
    "Dati i due lati di un rettangolo inseriti dall'utente come valori interi, calcolarne l'area"
   ]
  },
  {
   "cell_type": "code",
   "execution_count": 2,
   "metadata": {},
   "outputs": [
    {
     "name": "stdout",
     "output_type": "stream",
     "text": [
      "Inserisci primo lato: 10\n",
      "Inserisci secondo lato: 20\n",
      "200\n"
     ]
    }
   ],
   "source": [
    "latoA = input(\"Inserisci primo lato: \")\n",
    "latoB = input(\"Inserisci secondo lato: \")\n",
    "\n",
    "latoA = int(latoA)\n",
    "latoB = int(latoB)\n",
    "\n",
    "area = latoA * latoB\n",
    "print(area)"
   ]
  },
  {
   "cell_type": "code",
   "execution_count": null,
   "metadata": {},
   "outputs": [],
   "source": []
  },
  {
   "cell_type": "code",
   "execution_count": null,
   "metadata": {},
   "outputs": [],
   "source": []
  }
 ],
 "metadata": {
  "kernelspec": {
   "display_name": "Python 3",
   "language": "python",
   "name": "python3"
  },
  "language_info": {
   "codemirror_mode": {
    "name": "ipython",
    "version": 3
   },
   "file_extension": ".py",
   "mimetype": "text/x-python",
   "name": "python",
   "nbconvert_exporter": "python",
   "pygments_lexer": "ipython3",
   "version": "3.7.1"
  }
 },
 "nbformat": 4,
 "nbformat_minor": 2
}
