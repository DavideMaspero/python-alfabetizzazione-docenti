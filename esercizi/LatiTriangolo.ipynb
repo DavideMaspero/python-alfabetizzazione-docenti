{
 "cells": [
  {
   "cell_type": "markdown",
   "metadata": {},
   "source": [
    "### LEZIONE 1 - ESERCIZIO ? - Verifica triangolo rettangolo (versione 3)\n",
    "\n",
    "Dati tre interi `a`, `b` e `c` inseriti dall'utente, verificare se possono essere le misure dei lati di un triangolo rettangolo e in tale caso indicare la misura dell'ipotenusa. Si richiede di trovare prima l'ipotetica misura dell'ipotenusa e poi di verificare se `a`, `b` e `c` sono le misure di un triangolo rettangolo "
   ]
  },
  {
   "cell_type": "code",
   "execution_count": 3,
   "metadata": {},
   "outputs": [
    {
     "name": "stdout",
     "output_type": "stream",
     "text": [
      "Inserisci a: 5\n",
      "Inserisci b: 4\n",
      "Inserisci c: 3\n",
      "5, 4 e 3 sono le misure di un triangolo rettangolo con ipotenusa 5\n"
     ]
    }
   ],
   "source": [
    "a = input(\"Inserisci a: \")\n",
    "b = input(\"Inserisci b: \")\n",
    "c = input(\"Inserisci c: \")\n",
    "\n",
    "a = int(a)\n",
    "b = int(b)\n",
    "c = int(c)\n",
    "\n",
    "if a > b:\n",
    "    cateto1 = b\n",
    "    if a > c:\n",
    "        cateto2 = c\n",
    "        ipotenusa = a\n",
    "    else:\n",
    "        cateto2 = a\n",
    "        ipotenusa = c\n",
    "else:\n",
    "    cateto1 = a\n",
    "    if b > c:\n",
    "        cateto2 = c\n",
    "        ipotenusa = b\n",
    "    else:\n",
    "        cateto2 = b\n",
    "        ipotenusa = c\n",
    "\n",
    "if ipotenusa**2 == cateto1**2 + cateto2**2:\n",
    "    print(f\"{a}, {b} e {c} sono le misure di un triangolo rettangolo con ipotenusa {ipotenusa}\")\n",
    "else:\n",
    "    print(f\"{a}, {b} e {c} non sono le misure di un triangolo rettangolo\")"
   ]
  },
  {
   "cell_type": "code",
   "execution_count": null,
   "metadata": {},
   "outputs": [],
   "source": []
  },
  {
   "cell_type": "code",
   "execution_count": null,
   "metadata": {},
   "outputs": [],
   "source": []
  },
  {
   "cell_type": "code",
   "execution_count": null,
   "metadata": {},
   "outputs": [],
   "source": []
  }
 ],
 "metadata": {
  "kernelspec": {
   "display_name": "Python 3",
   "language": "python",
   "name": "python3"
  },
  "language_info": {
   "codemirror_mode": {
    "name": "ipython",
    "version": 3
   },
   "file_extension": ".py",
   "mimetype": "text/x-python",
   "name": "python",
   "nbconvert_exporter": "python",
   "pygments_lexer": "ipython3",
   "version": "3.7.1"
  }
 },
 "nbformat": 4,
 "nbformat_minor": 2
}
