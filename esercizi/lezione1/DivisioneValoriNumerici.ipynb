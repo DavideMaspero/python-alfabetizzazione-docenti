{
 "cells": [
  {
   "cell_type": "markdown",
   "metadata": {},
   "source": [
    "### LEZIONE 1, ESERCIZIO 1 - Divisione tra due valori numerici\n",
    "\n",
    "Dati due valori numerici (interi o decimali) produrre:\n",
    "\n",
    "- il risultato della loro divisione\n",
    "- il risultato della loro divisione intera\n",
    "- il resto della loro divisione intera\n",
    "- il risultato del prodotto tra il secondo valore e il risultato della divisione\n",
    "- il risultato della somma del prodotto tra il secondo valore e il risultato della divisione intera, più il resto della divisione intera\n",
    "\n",
    "#### Cosa è necessario conoscere per risolvere l'esercizio:\n",
    "\n",
    "- cos'è una variabile e come le si assegna un valore (tramite un'istruzione di assegnamento)\n",
    "- i tipi numerici `int` e `float` (per i valori interi e decimali) e come si assegna a una variabile un valore intero o un valore decimale\n",
    "- l'operatore di divisione `/` (tra due valori numerici)\n",
    "- l'operatore di divisione intera `//` (tra due valori numerici)\n",
    "- l'operatore di resto della divisione intera `%` (tra due valori numerici)\n",
    "- l'operatore di somma `+` (tra due valori numerici)\n",
    "- l'operatore di prodotto `*` (tra due valori numerici)"
   ]
  },
  {
   "cell_type": "markdown",
   "metadata": {},
   "source": [
    "### Soluzione\n",
    "\n",
    "Alle variabili `a` e `b` vengono assegnati due valori (interi o decimali)"
   ]
  },
  {
   "cell_type": "code",
   "execution_count": 1,
   "metadata": {},
   "outputs": [],
   "source": [
    "a = 257\n",
    "b = 11.0"
   ]
  },
  {
   "cell_type": "markdown",
   "metadata": {},
   "source": [
    "Il risultato della divisione tra i due valori è sempre un valore decimale"
   ]
  },
  {
   "cell_type": "code",
   "execution_count": 2,
   "metadata": {},
   "outputs": [],
   "source": [
    "risultato_divisione = a / b"
   ]
  },
  {
   "cell_type": "code",
   "execution_count": 3,
   "metadata": {},
   "outputs": [
    {
     "data": {
      "text/plain": [
       "23.363636363636363"
      ]
     },
     "execution_count": 3,
     "metadata": {},
     "output_type": "execute_result"
    }
   ],
   "source": [
    "risultato_divisione"
   ]
  },
  {
   "cell_type": "markdown",
   "metadata": {},
   "source": [
    "Il risultato della divisione intera tra i due valori è un valore intero solo se entrambi gli operandi sono interi, altrimenti è un valore decimale "
   ]
  },
  {
   "cell_type": "code",
   "execution_count": 4,
   "metadata": {},
   "outputs": [],
   "source": [
    "risultato_divisione_intera = a // b"
   ]
  },
  {
   "cell_type": "code",
   "execution_count": 5,
   "metadata": {},
   "outputs": [
    {
     "data": {
      "text/plain": [
       "23.0"
      ]
     },
     "execution_count": 5,
     "metadata": {},
     "output_type": "execute_result"
    }
   ],
   "source": [
    "risultato_divisione_intera"
   ]
  },
  {
   "cell_type": "markdown",
   "metadata": {},
   "source": [
    "Il resto della divisione intera tra i due valori è un valore intero solo se entrambi gli operandi sono interi, altrimenti è un valore decimale "
   ]
  },
  {
   "cell_type": "code",
   "execution_count": 6,
   "metadata": {},
   "outputs": [],
   "source": [
    "resto_divisione_intera = a % b"
   ]
  },
  {
   "cell_type": "code",
   "execution_count": 7,
   "metadata": {},
   "outputs": [
    {
     "data": {
      "text/plain": [
       "4.0"
      ]
     },
     "execution_count": 7,
     "metadata": {},
     "output_type": "execute_result"
    }
   ],
   "source": [
    "resto_divisione_intera"
   ]
  },
  {
   "cell_type": "markdown",
   "metadata": {},
   "source": [
    "Il prodotto del secondo valore (conservato in `b`) per il risultato della divisione fornisce un valore decimale uguale al primo valore (conservato in `a`)."
   ]
  },
  {
   "cell_type": "code",
   "execution_count": 8,
   "metadata": {},
   "outputs": [
    {
     "data": {
      "text/plain": [
       "257.0"
      ]
     },
     "execution_count": 8,
     "metadata": {},
     "output_type": "execute_result"
    }
   ],
   "source": [
    "b * risultato_divisione"
   ]
  },
  {
   "cell_type": "code",
   "execution_count": 9,
   "metadata": {},
   "outputs": [
    {
     "data": {
      "text/plain": [
       "257"
      ]
     },
     "execution_count": 9,
     "metadata": {},
     "output_type": "execute_result"
    }
   ],
   "source": [
    "a"
   ]
  },
  {
   "cell_type": "markdown",
   "metadata": {},
   "source": [
    "La somma del prodotto del secondo valore (conservato in `b`) per il risultato della divisione intera, e del resto fornisce un valore uguale al primo (conservato in `a`). Tale valore è intero se entrambi i valori di partenza sono interi, altrimenti è decimale"
   ]
  },
  {
   "cell_type": "code",
   "execution_count": 10,
   "metadata": {},
   "outputs": [
    {
     "data": {
      "text/plain": [
       "257.0"
      ]
     },
     "execution_count": 10,
     "metadata": {},
     "output_type": "execute_result"
    }
   ],
   "source": [
    "risultato_divisione_intera * b + resto_divisione_intera"
   ]
  },
  {
   "cell_type": "code",
   "execution_count": 11,
   "metadata": {},
   "outputs": [
    {
     "data": {
      "text/plain": [
       "257"
      ]
     },
     "execution_count": 11,
     "metadata": {},
     "output_type": "execute_result"
    }
   ],
   "source": [
    "a"
   ]
  }
 ],
 "metadata": {
  "kernelspec": {
   "display_name": "Python 3",
   "language": "python",
   "name": "python3"
  },
  "language_info": {
   "codemirror_mode": {
    "name": "ipython",
    "version": 3
   },
   "file_extension": ".py",
   "mimetype": "text/x-python",
   "name": "python",
   "nbconvert_exporter": "python",
   "pygments_lexer": "ipython3",
   "version": "3.7.1"
  }
 },
 "nbformat": 4,
 "nbformat_minor": 2
}
