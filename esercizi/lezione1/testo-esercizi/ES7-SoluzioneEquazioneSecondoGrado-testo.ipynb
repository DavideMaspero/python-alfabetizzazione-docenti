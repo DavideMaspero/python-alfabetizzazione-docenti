{
 "cells": [
  {
   "cell_type": "markdown",
   "metadata": {},
   "source": [
    "### ESERCIZIO 7 - Soluzioni di un'equazione di secondo grado\n",
    "\n",
    "Dati i tre coefficienti $a$, $b$ e $c$ di un'equazione di secondo grado, calcolare le sue soluzioni (reali o immaginarie).\n",
    "\n",
    "Le soluzioni di un'equazione di secondo grado $ax^2+bx+c = 0$ sono:\n",
    "\n",
    "$x_{1} = \\frac{-b-\\sqrt{\\Delta}}{2a}$\n",
    "\n",
    "$x_{2} = \\frac{-b+\\sqrt{\\Delta}}{2a}$\n",
    "\n",
    "se $\\Delta = b^2 - 4ac \\geq 0$ (soluzioni reali), altrimenti\n",
    "\n",
    "$x_{1} = \\frac{-b}{2a} + i \\frac{\\sqrt{-\\Delta}}{2a}$\n",
    "\n",
    "$x_{2} = \\frac{-b}{2a} - i \\frac{\\sqrt{-\\Delta}}{2a}$\n",
    "\n",
    "se $\\Delta = b^2 - 4ac < 0$ (soluzioni immaginarie)\n",
    "\n",
    "Nel primo caso (soluzioni reali) calcolare le due soluzioni $x_1$ e $x_2$ mentre nel secondo caso (soluzioni immaginarie) calcolare la parte reale $\\frac{-b}{2a}$ e la parte immaginaria $\\frac{\\sqrt{-\\Delta}}{2a}$"
   ]
  },
  {
   "cell_type": "code",
   "execution_count": null,
   "metadata": {},
   "outputs": [],
   "source": []
  }
 ],
 "metadata": {
  "kernelspec": {
   "display_name": "Python 3",
   "language": "python",
   "name": "python3"
  },
  "language_info": {
   "codemirror_mode": {
    "name": "ipython",
    "version": 3
   },
   "file_extension": ".py",
   "mimetype": "text/x-python",
   "name": "python",
   "nbconvert_exporter": "python",
   "pygments_lexer": "ipython3",
   "version": "3.7.1"
  }
 },
 "nbformat": 4,
 "nbformat_minor": 2
}
