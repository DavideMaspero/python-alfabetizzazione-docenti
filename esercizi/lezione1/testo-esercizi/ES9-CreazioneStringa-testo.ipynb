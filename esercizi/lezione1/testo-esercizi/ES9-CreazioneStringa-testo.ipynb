{
 "cells": [
  {
   "cell_type": "markdown",
   "metadata": {},
   "source": [
    "### ESERCIZIO 9 - Creazione e accesso a una stringa\n",
    "\n",
    "Creare la stringa **Hello world!** e produrre il numero dei suoi caratteri. Accedere al primo e all'ultimo carattere (in maniera separata) e accedere poi alla sottostringa che va dal terzo al settimo carattere, cioé **llo w** (che contiene un carattere di spazio).\n",
    "\n",
    "Verificare poi:\n",
    "- se l'ottavo carattere della stringa coincide con **r**\n",
    "- se il carattere **r** è presente nella stringa\n",
    "- se due caratteri a scelta sono presenti contemporaneamente nella stringa \n",
    "- se almeno uno tra due caratteri a scelta è presente nella stringa"
   ]
  }
 ],
 "metadata": {
  "kernelspec": {
   "display_name": "Python 3",
   "language": "python",
   "name": "python3"
  },
  "language_info": {
   "codemirror_mode": {
    "name": "ipython",
    "version": 3
   },
   "file_extension": ".py",
   "mimetype": "text/x-python",
   "name": "python",
   "nbconvert_exporter": "python",
   "pygments_lexer": "ipython3",
   "version": "3.7.1"
  }
 },
 "nbformat": 4,
 "nbformat_minor": 2
}
