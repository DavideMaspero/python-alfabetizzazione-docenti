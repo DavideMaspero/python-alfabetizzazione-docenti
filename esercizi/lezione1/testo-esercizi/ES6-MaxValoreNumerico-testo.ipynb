{
 "cells": [
  {
   "cell_type": "markdown",
   "metadata": {},
   "source": [
    "### ESERCIZIO 6 - Massimo tra due valori numerici\n",
    "\n",
    "Dati due valori numerici (interi o decimali) produrre il massimo tra i due"
   ]
  }
 ],
 "metadata": {
  "kernelspec": {
   "display_name": "Python 3",
   "language": "python",
   "name": "python3"
  },
  "language_info": {
   "codemirror_mode": {
    "name": "ipython",
    "version": 3
   },
   "file_extension": ".py",
   "mimetype": "text/x-python",
   "name": "python",
   "nbconvert_exporter": "python",
   "pygments_lexer": "ipython3",
   "version": "3.7.1"
  }
 },
 "nbformat": 4,
 "nbformat_minor": 2
}
