{
 "cells": [
  {
   "cell_type": "markdown",
   "metadata": {},
   "source": [
    "### ESERCIZIO 12 - Calcolo della media e della varianza di $N$ valori (interi o decimali)\n",
    "\n",
    "Calcolare la media di una lista di $N$ valori (interi o decimali) $n_1, n_2, \\cdots, n_N$.\n",
    "\n",
    "Si ricorda che media e varianza sono:\n",
    "\n",
    "$$media = \\frac{\\sum_{i=1}^N n_i}{N}$$\n",
    "\n",
    "$$varianza = \\frac{\\sum_{i=1}^N (n_i-media)^2}{N}$$"
   ]
  }
 ],
 "metadata": {
  "kernelspec": {
   "display_name": "Python 3",
   "language": "python",
   "name": "python3"
  },
  "language_info": {
   "codemirror_mode": {
    "name": "ipython",
    "version": 3
   },
   "file_extension": ".py",
   "mimetype": "text/x-python",
   "name": "python",
   "nbconvert_exporter": "python",
   "pygments_lexer": "ipython3",
   "version": "3.7.1"
  }
 },
 "nbformat": 4,
 "nbformat_minor": 2
}
