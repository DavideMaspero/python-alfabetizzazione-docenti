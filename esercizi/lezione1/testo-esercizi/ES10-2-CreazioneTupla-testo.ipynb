{
 "cells": [
  {
   "cell_type": "markdown",
   "metadata": {},
   "source": [
    "### ESERCIZIO 10.2 - Creazione e accesso a una tupla\n",
    "\n",
    "Creare una tupla di 5 elementi in cui sia presente almeno un valore intero, un valore decimale e una stringa. Accedere al terzo elemento. Accedere poi alla sottotupla che va dal secondo al quarto elemento. Testare infine la presenza nella tupla dell'intero `10`.\n",
    "\n",
    "Tentare di aggiornare la tupla utilizzando la sintassi di aggiornamento vista per le liste.\n",
    "\n",
    "#### Cosa è necessario conoscere per risolvere l'esercizio:\n",
    "\n",
    "- cos'è una tupla e come si assegna una tupla a una variabile\n",
    "- la funzione predefinita `len()` per determinare la dimensione di una tupla\n",
    "- l'indicizzazione delle posizioni degli elementi all'interno di una tupla\n",
    "- la sintassi di accesso al singolo elemento di una tupla tramite l'indice della sua posizione\n",
    "- la sintassi di *slicing* per accedere a una sottotupla\n",
    "- l'operatore `in` per testare la presenza di un elemento all'interno di una tupla"
   ]
  },
  {
   "cell_type": "code",
   "execution_count": null,
   "metadata": {},
   "outputs": [],
   "source": []
  }
 ],
 "metadata": {
  "kernelspec": {
   "display_name": "Python 3",
   "language": "python",
   "name": "python3"
  },
  "language_info": {
   "codemirror_mode": {
    "name": "ipython",
    "version": 3
   },
   "file_extension": ".py",
   "mimetype": "text/x-python",
   "name": "python",
   "nbconvert_exporter": "python",
   "pygments_lexer": "ipython3",
   "version": "3.7.1"
  }
 },
 "nbformat": 4,
 "nbformat_minor": 2
}
