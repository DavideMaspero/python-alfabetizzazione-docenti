{
 "cells": [
  {
   "cell_type": "markdown",
   "metadata": {},
   "source": [
    "### LEZIONE 1, ESERCIZIO 12 - Creazione, accesso e aggiornamento di un dizionario\n",
    "\n",
    "Creare un dizionario per memorizzare le età dei 4 componenti della famiglia Rossi:\n",
    "\n",
    "- Silvia ha 45 anni\n",
    "- Roberto ha 47 anni\n",
    "- Arianna ha 18 anni\n",
    "- Tommaso ha 13 anni\n",
    "\n",
    "Accedere all'età di Arianna e aggiornarla poi a 19 anni. Aggiungere infine al dizionario l'età di Aurora che ha un anno."
   ]
  },
  {
   "cell_type": "markdown",
   "metadata": {},
   "source": [
    "I nomi dei componenti sono le chiavi del dizionario e le età sono i valori, cioè gli elementi da memorizzare nel dizionario, a cui si vuole accedere tramite il nome del componente.\n",
    "\n",
    "Le chiavi (nomi) sono stringhe e i valori (età) sono numeri interi."
   ]
  },
  {
   "cell_type": "markdown",
   "metadata": {},
   "source": [
    "Alla variabile `diz` vengono assegnate le 4 coppie chiave-valore (nome-età) utilizzando la sintassi con parentesi graffe `{}`"
   ]
  },
  {
   "cell_type": "code",
   "execution_count": 1,
   "metadata": {},
   "outputs": [],
   "source": [
    "diz = {'Silvia' : 45, 'Roberto': 47, 'Arianna' : 18, 'Tommaso' : 13}"
   ]
  },
  {
   "cell_type": "markdown",
   "metadata": {},
   "source": [
    "La dimensione del dizionario (cioé il numero di coppie chiave-valore) viene ottenuta utilizzando la funzione `len()` e passando come argomento la variabile `diz` che contiene il dizionario. La lunghezza viene assegnata alla variabile `lunghezza`"
   ]
  },
  {
   "cell_type": "code",
   "execution_count": 2,
   "metadata": {},
   "outputs": [],
   "source": [
    "lunghezza = len(diz)"
   ]
  },
  {
   "cell_type": "code",
   "execution_count": 3,
   "metadata": {},
   "outputs": [
    {
     "data": {
      "text/plain": [
       "4"
      ]
     },
     "execution_count": 3,
     "metadata": {},
     "output_type": "execute_result"
    }
   ],
   "source": [
    "lunghezza"
   ]
  },
  {
   "cell_type": "markdown",
   "metadata": {},
   "source": [
    "L'età di Arianna è il valore del dizionario che ha la stringa **Arianna** come chiave"
   ]
  },
  {
   "cell_type": "code",
   "execution_count": 4,
   "metadata": {},
   "outputs": [
    {
     "data": {
      "text/plain": [
       "18"
      ]
     },
     "execution_count": 4,
     "metadata": {},
     "output_type": "execute_result"
    }
   ],
   "source": [
    "diz['Arianna']"
   ]
  },
  {
   "cell_type": "markdown",
   "metadata": {},
   "source": [
    "Con la stessa sintassi di accesso a un dizionario l'età di Arianna può essere aggiornata a 19 anni"
   ]
  },
  {
   "cell_type": "code",
   "execution_count": 5,
   "metadata": {},
   "outputs": [],
   "source": [
    "diz['Arianna'] = 19"
   ]
  },
  {
   "cell_type": "markdown",
   "metadata": {},
   "source": [
    "La nuova età di Arianna è ora"
   ]
  },
  {
   "cell_type": "code",
   "execution_count": 6,
   "metadata": {},
   "outputs": [
    {
     "data": {
      "text/plain": [
       "19"
      ]
     },
     "execution_count": 6,
     "metadata": {},
     "output_type": "execute_result"
    }
   ],
   "source": [
    "diz['Arianna']"
   ]
  },
  {
   "cell_type": "markdown",
   "metadata": {},
   "source": [
    "A questo punto si può aggiungere anche l'età di Aurora che non è ancora presente nel dizionario"
   ]
  },
  {
   "cell_type": "code",
   "execution_count": 7,
   "metadata": {},
   "outputs": [],
   "source": [
    "diz['Aurora'] = 1"
   ]
  },
  {
   "cell_type": "markdown",
   "metadata": {},
   "source": [
    "Il contenuto del dizionario è ora"
   ]
  },
  {
   "cell_type": "code",
   "execution_count": 8,
   "metadata": {},
   "outputs": [
    {
     "data": {
      "text/plain": [
       "{'Silvia': 45, 'Roberto': 47, 'Arianna': 19, 'Tommaso': 13, 'Aurora': 1}"
      ]
     },
     "execution_count": 8,
     "metadata": {},
     "output_type": "execute_result"
    }
   ],
   "source": [
    "diz"
   ]
  },
  {
   "cell_type": "code",
   "execution_count": null,
   "metadata": {},
   "outputs": [],
   "source": []
  }
 ],
 "metadata": {
  "kernelspec": {
   "display_name": "Python 3",
   "language": "python",
   "name": "python3"
  },
  "language_info": {
   "codemirror_mode": {
    "name": "ipython",
    "version": 3
   },
   "file_extension": ".py",
   "mimetype": "text/x-python",
   "name": "python",
   "nbconvert_exporter": "python",
   "pygments_lexer": "ipython3",
   "version": "3.7.1"
  }
 },
 "nbformat": 4,
 "nbformat_minor": 2
}
