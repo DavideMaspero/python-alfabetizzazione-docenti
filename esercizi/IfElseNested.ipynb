{
 "cells": [
  {
   "cell_type": "markdown",
   "metadata": {},
   "source": [
    "### LEZIONE 1 - ESERCIZIO ? - Scelta di un'opzione (versione 1)\n",
    "\n",
    "Chiedere all'utente di scegliere tra tre opzioni indicate dalle lettere a, b e c, e rispondere specificando la scelta effettuata. Segnalare all'utente anche il caso di una scelta non valida (cioé non compresa tra le precedenti). Risolvere l'esercizio con un nested `if-else`"
   ]
  },
  {
   "cell_type": "code",
   "execution_count": 4,
   "metadata": {},
   "outputs": [
    {
     "name": "stdout",
     "output_type": "stream",
     "text": [
      "Scegli una delle seguenti opzioni: a,b,c\n",
      "0\n",
      "Hai scelto un'opzione non valida...\n",
      "\n"
     ]
    }
   ],
   "source": [
    "selezione = input(\"Scegli una delle seguenti opzioni: a,b,c\\n\")\n",
    "\n",
    "if selezione == 'a':\n",
    "    print(\"Hai scelto l'opzione a\\n\")\n",
    "else:\n",
    "    if selezione == 'b':\n",
    "        print(\"Hai scelto l'opzione b\\n\")\n",
    "    else:\n",
    "        if selezione == 'c':\n",
    "            print(\"Hai scelto l'opzione c\\n\")\n",
    "        else:\n",
    "            print(\"Hai scelto un'opzione non valida...\\n\")"
   ]
  },
  {
   "cell_type": "code",
   "execution_count": null,
   "metadata": {},
   "outputs": [],
   "source": []
  },
  {
   "cell_type": "code",
   "execution_count": null,
   "metadata": {},
   "outputs": [],
   "source": []
  },
  {
   "cell_type": "code",
   "execution_count": null,
   "metadata": {},
   "outputs": [],
   "source": []
  }
 ],
 "metadata": {
  "kernelspec": {
   "display_name": "Python 3",
   "language": "python",
   "name": "python3"
  },
  "language_info": {
   "codemirror_mode": {
    "name": "ipython",
    "version": 3
   },
   "file_extension": ".py",
   "mimetype": "text/x-python",
   "name": "python",
   "nbconvert_exporter": "python",
   "pygments_lexer": "ipython3",
   "version": "3.7.1"
  }
 },
 "nbformat": 4,
 "nbformat_minor": 2
}
