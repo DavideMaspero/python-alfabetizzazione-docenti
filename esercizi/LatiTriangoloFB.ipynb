{
 "cells": [
  {
   "cell_type": "markdown",
   "metadata": {},
   "source": [
    "### LEZIONE 1 - ESERCIZIO ? - Verifica triangolo rettangolo (versione 1)\n",
    "\n",
    "Dati tre interi `a`, `b` e `c` inseriti dall'utente, verificare se possono essere le misure dei lati di un triangolo rettangolo. Si richiede di usare nested `if-else`"
   ]
  },
  {
   "cell_type": "code",
   "execution_count": 4,
   "metadata": {},
   "outputs": [
    {
     "name": "stdout",
     "output_type": "stream",
     "text": [
      "Inserisci a: 4\n",
      "Inserisci b: 3\n",
      "Inserisci c: 5\n",
      "4, 3 e 5 sono le misure di un triangolo rettangolo\n"
     ]
    }
   ],
   "source": [
    "a = input(\"Inserisci a: \")\n",
    "b = input(\"Inserisci b: \")\n",
    "c = input(\"Inserisci c: \")\n",
    "\n",
    "a = int(a)\n",
    "b = int(b)\n",
    "c = int(c)\n",
    "\n",
    "if a**2 == b**2 + c**2:\n",
    "    print(f\"{a}, {b} e {c} sono le misure di un triangolo rettangolo\")\n",
    "else:\n",
    "    if b**2 == a**2 + c**2:\n",
    "        print(f\"{a}, {b} e {c} sono le misure di un triangolo rettangolo\")\n",
    "    else:\n",
    "        if c**2 == a**2 + b**2:\n",
    "            print(f\"{a}, {b} e {c} sono le misure di un triangolo rettangolo\")\n",
    "        else:\n",
    "            print(f\"{a}, {b} e {c} non sono le misure di un triangolo rettangolo\")"
   ]
  },
  {
   "cell_type": "code",
   "execution_count": null,
   "metadata": {},
   "outputs": [],
   "source": []
  },
  {
   "cell_type": "code",
   "execution_count": null,
   "metadata": {},
   "outputs": [],
   "source": []
  },
  {
   "cell_type": "code",
   "execution_count": null,
   "metadata": {},
   "outputs": [],
   "source": []
  }
 ],
 "metadata": {
  "kernelspec": {
   "display_name": "Python 3",
   "language": "python",
   "name": "python3"
  },
  "language_info": {
   "codemirror_mode": {
    "name": "ipython",
    "version": 3
   },
   "file_extension": ".py",
   "mimetype": "text/x-python",
   "name": "python",
   "nbconvert_exporter": "python",
   "pygments_lexer": "ipython3",
   "version": "3.7.1"
  }
 },
 "nbformat": 4,
 "nbformat_minor": 2
}
